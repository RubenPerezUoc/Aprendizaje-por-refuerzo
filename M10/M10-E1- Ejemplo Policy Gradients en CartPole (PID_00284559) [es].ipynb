{
 "cells": [
  {
   "cell_type": "markdown",
   "metadata": {
    "id": "MJEAC2XeSADL"
   },
   "source": [
    "<div style=\"width: 100%; clear: both;\">\n",
    "<div style=\"float: left; width: 50%;\">\n",
    "<img src=\"http://www.uoc.edu/portal/_resources/common/imatges/marca_UOC/UOC_Masterbrand.jpg\", align=\"left\">\n",
    "</div>\n",
    "<div style=\"float: right; width: 50%;\">\n",
    "<p style=\"margin: 0; padding-top: 22px; text-align:right;\">M2.883 · Aprendizaje por refuerzo</p>\n",
    "<p style=\"margin: 0; text-align:right;\">Máster universitario de Ciencia de Datos (<i>Data Science</i>)</p>\n",
    "<p style=\"margin: 0; text-align:right; padding-button: 100px;\">Estudios de Informática, Multimedia y Telecomunicación</p>\n",
    "</div>\n",
    "</div>\n",
    "<div style=\"width:100%;\">&nbsp;</div>"
   ]
  },
  {
   "cell_type": "markdown",
   "metadata": {},
   "source": [
    "# Módulo 10: ejemplo de Policy Gradients en CartPole\n",
    "\n",
    "En este _notebook_ vamos a ver un ejemplo de implementación de los algoritmos de gradientes de política REINFORCE con línea de base, utilizando el mismo entorno de OpenAI que utilizamos para la DQN para poder comparar mejor los dos métodos.\n",
    "\n",
    "Tanto para este ejemplo como para las posteriores prácticas se utilizará el <i>framework</i> de __Pytorch__."
   ]
  },
  {
   "cell_type": "markdown",
   "metadata": {
    "id": "d3InlcjoSADQ"
   },
   "source": [
    "## 1. Entorno CartPole"
   ]
  },
  {
   "cell_type": "markdown",
   "metadata": {
    "id": "udqJgErkSADR"
   },
   "source": [
    "Como en el ejemplo de la DQN, usaremos de nuevo el entorno del juego de **CartPole**, en el que el objetivo es aprender a controlar un objeto. El juego consta de una carretilla y de un palo colocado verticalmente encima de la carretilla. El palo se aguanta únicamente por gravedad, mientras que la carretilla se mueve a derecha y a izquierda sin parar. El objetivo del agente es controlar la velocidad de la carretilla, aumentándola o disminuyéndola con el objetivo de evitar que el palo se caiga. "
   ]
  },
  {
   "cell_type": "markdown",
   "metadata": {
    "id": "VvO8pvp5SADR"
   },
   "source": [
    "### 1.1 Establecer el entorno"
   ]
  },
  {
   "cell_type": "markdown",
   "metadata": {
    "id": "Hrn3j74PSADR"
   },
   "source": [
    "En primer lugar, cargaremos la librería __gym__ e inicializaremos el entorno."
   ]
  },
  {
   "cell_type": "code",
   "execution_count": 12,
   "metadata": {
    "id": "Z9oAZ1BHeWLc"
   },
   "outputs": [],
   "source": [
    "import gym\n",
    "\n",
    "env = gym.envs.make(\"CartPole-v0\")"
   ]
  },
  {
   "cell_type": "markdown",
   "metadata": {
    "id": "68jx37WiSADS"
   },
   "source": [
    "Cada entorno tiene definido todo lo necesario para que un agente pueda aprender: tenemos un juego que funciona de una manera determinada y nosotros podemos entrenar a un agente para que aprenda a jugar a ese juego sin ninguna otra ayuda que la de experimentar con el juego, observando, actuando y recibiendo recompensas. Así, el entorno del juego ya define qué acciones pueden tomarse, qué estados pueden presentarse, en qué consistirá la recompensa, etc. "
   ]
  },
  {
   "cell_type": "markdown",
   "metadata": {
    "id": "pWs6PdCESADT"
   },
   "source": [
    "A continuación, podemos visualizar el entorno de __CartPole__ generando un bucle sobre unos pocos episodios y, al terminar, lo cerramos. "
   ]
  },
  {
   "cell_type": "code",
   "execution_count": 13,
   "metadata": {
    "colab": {
     "base_uri": "https://localhost:8080/",
     "height": 380
    },
    "id": "fa71Hyn9SADT",
    "outputId": "e1fa6d48-2437-4560-c542-66d0d439fd2b"
   },
   "outputs": [
    {
     "name": "stdout",
     "output_type": "stream",
     "text": [
      "[-0.04520342  0.02139292  0.00510806  0.01598771]\n",
      "[-0.04477556  0.21644125  0.00542781 -0.2750792 ]\n",
      "[-4.04467367e-02  4.11485336e-01 -7.37725982e-05 -5.66045254e-01]\n",
      "[-0.03221703  0.60660832 -0.01139468 -0.85875142]\n",
      "[-0.02008486  0.80188362 -0.02856971 -1.15499532]\n",
      "[-0.00404719  0.99736623 -0.05166961 -1.45649792]\n",
      "[ 0.01590013  0.80291504 -0.08079957 -1.18039451]\n",
      "[ 0.03195843  0.60892959 -0.10440746 -0.91409489]\n",
      "[ 0.04413703  0.80529702 -0.12268936 -1.23768211]\n",
      "[ 0.06024297  0.611946   -0.147443   -0.98581593]\n",
      "[ 0.07248189  0.80870199 -0.16715932 -1.32093904]\n",
      "[ 0.08865593  1.00549498 -0.1935781  -1.66093029]\n",
      "Episode finished after 12 timesteps\n",
      "[-0.00609054 -0.01663257 -0.03759224 -0.03282528]\n",
      "[-0.00642319  0.17900774 -0.03824874 -0.33712794]\n",
      "[-0.00284303 -0.01554963 -0.0449913  -0.05674772]\n",
      "[-0.00315403 -0.20999857 -0.04612625  0.22140756]\n",
      "[-0.007354   -0.0142487  -0.0416981  -0.08546126]\n",
      "[-0.00763897  0.18144539 -0.04340733 -0.39100293]\n",
      "[-0.00401006 -0.01303449 -0.05122739 -0.11231563]\n",
      "[-0.00427075  0.18278265 -0.0534737  -0.42071029]\n",
      "[-0.0006151  -0.01154248 -0.06188791 -0.14535302]\n",
      "[-0.00084595 -0.20572606 -0.06479497  0.12718128]\n",
      "[-0.00496047 -0.39986282 -0.06225134  0.39873895]\n",
      "[-0.01295773 -0.20391553 -0.05427656  0.08709727]\n",
      "[-0.01703604 -0.00805928 -0.05253462 -0.22220395]\n",
      "[-0.01719722 -0.20239252 -0.0569787   0.05345567]\n",
      "[-0.02124507 -0.39665314 -0.05590958  0.32763105]\n",
      "[-0.02917814 -0.20078164 -0.04935696  0.01785402]\n",
      "[-0.03319377 -0.00498787 -0.04899988 -0.28998402]\n",
      "[-0.03329353 -0.19937812 -0.05479956 -0.01314884]\n",
      "[-0.03728109 -0.00351483 -0.05506254 -0.32260575]\n",
      "[-0.03735139 -0.19781123 -0.06151465 -0.04778306]\n",
      "[-0.04130761 -0.39199963 -0.06247031  0.2248747 ]\n",
      "[-0.0491476  -0.5861757  -0.05797282  0.49721632]\n",
      "[-0.06087112 -0.78043436 -0.04802849  0.77108033]\n",
      "[-0.07647981 -0.58468553 -0.03260689  0.46368072]\n",
      "[-0.08817352 -0.77933188 -0.02333327  0.74591033]\n",
      "[-0.10376015 -0.97412423 -0.00841507  1.03115995]\n",
      "[-0.12324264 -1.16913322  0.01220813  1.32118908]\n",
      "[-0.1466253  -1.36440732  0.03863192  1.6176675 ]\n",
      "[-0.17391345 -1.55996281  0.07098527  1.92213684]\n",
      "[-0.2051127  -1.36567134  0.109428    1.65228573]\n",
      "[-0.23242613 -1.56188803  0.14247372  1.976958  ]\n",
      "[-0.26366389 -1.7581947   0.18201288  2.31018018]\n",
      "Episode finished after 32 timesteps\n",
      "[-0.03322202  0.04982413  0.01475107  0.00132775]\n",
      "[-0.03222553  0.24473145  0.01477763 -0.28666478]\n",
      "[-0.0273309   0.04940191  0.00904433  0.01064202]\n",
      "[-0.02634287 -0.14584858  0.00925717  0.30616476]\n",
      "[-0.02925984  0.04914024  0.01538047  0.01641563]\n",
      "[-0.02827703 -0.14619887  0.01570878  0.31391132]\n",
      "[-0.03120101  0.04869583  0.02198701  0.02622354]\n",
      "[-0.03022709  0.24349568  0.02251148 -0.25944195]\n",
      "[-0.02535718  0.43828915  0.01732264 -0.5449403 ]\n",
      "[-0.0165914   0.24292812  0.00642383 -0.24685013]\n",
      "[-0.01173283  0.43795774  0.00148683 -0.53749993]\n",
      "[-0.00297368  0.24281492 -0.00926317 -0.24434889]\n",
      "[ 0.00188262  0.43806794 -0.01415014 -0.53993919]\n",
      "[ 0.01064398  0.24314773 -0.02494893 -0.25174815]\n",
      "[ 0.01550693  0.04839076 -0.02998389  0.03296217]\n",
      "[ 0.01647475 -0.14628867 -0.02932465  0.31603611]\n",
      "[ 0.01354897 -0.34098091 -0.02300393  0.5993287 ]\n",
      "[ 0.00672936 -0.53577359 -0.01101735  0.88467786]\n",
      "[-0.00398612 -0.73074423  0.00667621  1.17387703]\n",
      "[-0.018601   -0.53570968  0.03015375  0.88329452]\n",
      "[-0.02931519 -0.34100992  0.04781964  0.60024149]\n",
      "[-0.03613539 -0.53676709  0.05982447  0.90759521]\n",
      "[-0.04687073 -0.34250383  0.07797637  0.63429951]\n",
      "[-0.05372081 -0.14855119  0.09066236  0.36715639]\n",
      "[-0.05669183 -0.34483662  0.09800549  0.68699355]\n",
      "[-0.06358857 -0.54117253  0.11174536  1.00885169]\n",
      "[-0.07441202 -0.73759431  0.13192239  1.33443155]\n",
      "[-0.0891639  -0.54435857  0.15861102  1.0857693 ]\n",
      "[-0.10005107 -0.74117635  0.18032641  1.42372653]\n",
      "[-0.1148746  -0.54868323  0.20880094  1.19239781]\n",
      "Episode finished after 30 timesteps\n",
      "[ 0.0347548   0.04083763  0.03931869 -0.00223586]\n",
      "[ 0.03557155 -0.15482551  0.03927397  0.30258872]\n",
      "[ 0.03247504 -0.35048455  0.04532574  0.60739455]\n",
      "[ 0.02546535 -0.54620994  0.05747363  0.91400231]\n",
      "[ 0.01454115 -0.35191052  0.07575368  0.63992236]\n",
      "[ 0.00750294 -0.54800232  0.08855213  0.95546678]\n",
      "[-0.00345711 -0.74419657  0.10766146  1.27460538]\n",
      "[-0.01834104 -0.55059999  0.13315357  1.01748322]\n",
      "[-0.02935304 -0.35748013  0.15350323  0.76939921]\n",
      "[-0.03650264 -0.16476657  0.16889122  0.52868084]\n",
      "[-0.03979797 -0.36181167  0.17946484  0.86946137]\n",
      "[-0.0470342  -0.16952526  0.19685406  0.63814401]\n",
      "Episode finished after 12 timesteps\n",
      "[-0.01541926 -0.04503376 -0.01996466 -0.01209949]\n",
      "[-0.01631994  0.15036874 -0.02020665 -0.31101405]\n",
      "[-0.01331256  0.34577266 -0.02642693 -0.61000044]\n",
      "[-0.00639711  0.54125386 -0.03862694 -0.91088847]\n",
      "[ 0.00442797  0.73687662 -0.05684471 -1.21545723]\n",
      "[ 0.0191655   0.54253216 -0.08115386 -0.94111475]\n",
      "[ 0.03001614  0.34859218 -0.09997615 -0.67499527]\n",
      "[ 0.03698799  0.5449509  -0.11347606 -0.99740664]\n",
      "[ 0.047887    0.74139214 -0.13342419 -1.32346378]\n",
      "[ 0.06271485  0.93792315 -0.15989346 -1.65475063]\n",
      "[ 0.08147331  1.13450938 -0.19298848 -1.99267719]\n",
      "Episode finished after 11 timesteps\n",
      "[ 0.04238812  0.0288067  -0.00537779 -0.04250739]\n",
      "[ 0.04296425  0.22400535 -0.00622794 -0.3368822 ]\n",
      "[ 0.04744436  0.02897258 -0.01296558 -0.04616972]\n",
      "[ 0.04802381 -0.16596108 -0.01388898  0.24239441]\n",
      "[ 0.04470459  0.02935649 -0.00904109 -0.0546369 ]\n",
      "[ 0.04529172  0.2246069  -0.01013383 -0.35015859]\n",
      "[ 0.04978385  0.41987149 -0.017137   -0.64601974]\n",
      "[ 0.05818128  0.61522799 -0.0300574  -0.94404949]\n",
      "[ 0.07048584  0.8107417  -0.04893839 -1.24602313]\n",
      "[ 0.08670068  1.00645601 -0.07385885 -1.55362526]\n",
      "[ 0.1068298   0.81229305 -0.10493135 -1.28486961]\n",
      "[ 0.12307566  1.00858259 -0.13062875 -1.60847769]\n",
      "[ 0.14324731  0.81522407 -0.1627983  -1.35920671]\n",
      "[ 0.15955179  0.62247423 -0.18998243 -1.12155642]\n",
      "Episode finished after 14 timesteps\n",
      "[ 0.03694612  0.01944537  0.00857037 -0.02035324]\n",
      "[ 0.03733503 -0.17579843  0.00816331  0.27502137]\n",
      "[ 0.03381906  0.0192061   0.01366374 -0.0150757 ]\n",
      "[ 0.03420319  0.21412946  0.01336222 -0.30341643]\n",
      "[ 0.03848577  0.01881965  0.00729389 -0.0065495 ]\n",
      "[ 0.03886217 -0.17640614  0.0071629   0.28842579]\n",
      "[ 0.03533404  0.01861293  0.01293142 -0.00198945]\n",
      "[ 0.0357063   0.21354707  0.01289163 -0.29056447]\n",
      "[0.03997724 0.01824369 0.00708034 0.00615629]\n",
      "[ 0.04034212 -0.17697909  0.00720347  0.30106472]\n",
      "[0.03680254 0.01803946 0.01322476 0.01066229]\n",
      "[ 0.03716333 -0.17726964  0.01343801  0.30748828]\n",
      "[0.03361793 0.01765828 0.01958777 0.01907346]\n",
      "[ 0.0339711  -0.17773902  0.01996924  0.31787162]\n",
      "[0.03041632 0.0170929  0.02632667 0.03155257]\n",
      "[ 0.03075818 -0.1783965   0.02695773  0.33242421]\n",
      "[0.02719025 0.01633158 0.03360621 0.04836283]\n",
      "[ 0.02751688 -0.17925574  0.03457347  0.35145652]\n",
      "[ 0.02393176 -0.37485186  0.0416026   0.65483795]\n",
      "[ 0.01643473 -0.18033309  0.05469936  0.37553988]\n",
      "[ 0.01282806 -0.37618759  0.06221015  0.68495583]\n",
      "[ 0.00530431 -0.57211555  0.07590927  0.99655726]\n",
      "[-0.006138   -0.768166    0.09584042  1.31208197]\n",
      "[-0.02150132 -0.57437926  0.12208206  1.05086981]\n",
      "[-0.0329889  -0.38106936  0.14309945  0.79886614]\n",
      "[-0.04061029 -0.18817003  0.15907677  0.55440246]\n",
      "[-0.04437369 -0.38512596  0.17016482  0.89267777]\n",
      "[-0.05207621 -0.58209652  0.18801838  1.23365366]\n",
      "Episode finished after 28 timesteps\n",
      "[-0.04839425  0.02051209 -0.0314326  -0.04779155]\n",
      "[-0.04798401  0.21607033 -0.03238843 -0.35022367]\n",
      "[-0.04366261  0.41163757 -0.0393929  -0.65294122]\n",
      "[-0.03542985  0.60728531 -0.05245173 -0.95776366]\n",
      "[-0.02328415  0.80307182 -0.071607   -1.26645327]\n",
      "[-0.00722271  0.60893407 -0.09693606 -0.99702739]\n",
      "[ 0.00495597  0.41523253 -0.11687661 -0.73629371]\n",
      "[ 0.01326062  0.22190222 -0.13160249 -0.48256023]\n",
      "[ 0.01769866  0.02885934 -0.14125369 -0.23407935]\n",
      "[ 0.01827585 -0.1639915  -0.14593528  0.01092519]\n",
      "[ 0.01499602 -0.35675188 -0.14571677  0.25423944]\n",
      "[ 0.00786098 -0.54952526 -0.14063198  0.49764574]\n",
      "[-0.00312952 -0.35272971 -0.13067907  0.16415702]\n",
      "[-0.01018412 -0.54576239 -0.12739593  0.41292685]\n",
      "[-0.02109936 -0.73887005 -0.11913739  0.66288778]\n",
      "[-0.03587676 -0.93215069 -0.10587964  0.91581005]\n",
      "[-0.05451978 -1.1256938  -0.08756344  1.17342846]\n",
      "[-0.07703365 -1.31957536 -0.06409487  1.43742582]\n",
      "[-0.10342516 -1.5138514  -0.03534635  1.70941052]\n",
      "[-1.33702189e-01 -1.31834157e+00 -1.15814013e-03  1.40593928e+00]\n",
      "[-0.16006902 -1.12320526  0.02696065  1.11289452]\n",
      "[-0.18253313 -1.31867071  0.04921854  1.41391162]\n",
      "[-0.20890654 -1.12419197  0.07749677  1.13701119]\n",
      "[-0.23139038 -1.32023727  0.10023699  1.45295778]\n",
      "[-0.25779512 -1.5164373   0.12929615  1.77520092]\n",
      "[-0.28812387 -1.71275773  0.16480017  2.10513075]\n",
      "[-0.32237903 -1.51962773  0.20690278  1.86759302]\n",
      "Episode finished after 27 timesteps\n",
      "[ 0.03261538 -0.03331386  0.01347683 -0.00439186]\n",
      "[ 0.0319491   0.16161225  0.01338899 -0.2927924 ]\n",
      "[ 0.03518135  0.35654077  0.00753314 -0.58122273]\n",
      "[ 0.04231216  0.16131408 -0.00409131 -0.28617628]\n",
      "[ 0.04553844 -0.03374928 -0.00981484  0.00521348]\n",
      "[ 0.04486346 -0.22872911 -0.00971057  0.29478362]\n",
      "[ 0.04028888 -0.03347007 -0.0038149  -0.00094599]\n",
      "[ 0.03961947  0.16170638 -0.00383382 -0.29483012]\n",
      "[ 0.0428536  -0.0333607  -0.00973042 -0.00335878]\n",
      "[ 0.04218639  0.16189943 -0.00979759 -0.29909582]\n",
      "[ 0.04542438  0.35715966 -0.01577951 -0.59485255]\n",
      "[ 0.05256757  0.16226208 -0.02767656 -0.30718155]\n",
      "[ 0.05581281  0.35776725 -0.03382019 -0.60846287]\n",
      "[ 0.06296816  0.55334528 -0.04598945 -0.9116034 ]\n",
      "[ 0.07403506  0.35887476 -0.06422152 -0.63372218]\n",
      "[ 0.08121256  0.16470468 -0.07689596 -0.36193563]\n",
      "[ 0.08450665 -0.02924488 -0.08413467 -0.09445612]\n",
      "[ 0.08392175  0.16697587 -0.0860238  -0.41245256]\n",
      "[ 0.08726127  0.3632052  -0.09427285 -0.73096795]\n",
      "[ 0.09452537  0.55949483 -0.10889221 -1.05177017]\n",
      "[ 0.10571527  0.36597219 -0.12992761 -0.79515661]\n",
      "[ 0.11303471  0.17284998 -0.14583074 -0.54600629]\n",
      "[ 0.11649171  0.36968743 -0.15675087 -0.88085092]\n",
      "[ 0.12388546  0.1770023  -0.17436789 -0.64126304]\n",
      "[ 0.12742551  0.37407097 -0.18719315 -0.98338841]\n",
      "[ 0.13490693  0.57114027 -0.20686092 -1.32854224]\n",
      "Episode finished after 26 timesteps\n",
      "[-0.03834281 -0.00812762  0.04579149 -0.0275774 ]\n",
      "[-0.03850536  0.18630875  0.04523994 -0.30546824]\n",
      "[-0.03477918 -0.00942771  0.03913058  0.00113206]\n",
      "[-0.03496774 -0.20508837  0.03915322  0.30589984]\n",
      "[-0.0390695  -0.40074575  0.04527122  0.61066909]\n",
      "[-0.04708442 -0.59647028  0.0574846   0.91726027]\n",
      "[-0.05901382 -0.79232036  0.0758298   1.22744131]\n",
      "[-0.07486023 -0.5982519   0.10037863  0.95944776]\n",
      "[-0.08682527 -0.40461216  0.11956758  0.69991203]\n",
      "[-0.09491751 -0.2113329   0.13356583  0.44713224]\n",
      "[-0.09914417 -0.01832825  0.14250847  0.1993555 ]\n",
      "[-0.09951074  0.17449838  0.14649558 -0.04519655]\n",
      "[-0.09602077 -0.02238734  0.14559165  0.28988449]\n",
      "[-0.09646852  0.17039099  0.15138934  0.0464292 ]\n",
      "[-0.0930607  -0.02654103  0.15231792  0.38278726]\n",
      "[-0.09359152 -0.2234604   0.15997367  0.71935495]\n",
      "[-0.09806072 -0.03087092  0.17436077  0.48099125]\n",
      "[-0.09867814 -0.2279699   0.18398059  0.82315972]\n",
      "[-0.10323754 -0.42506765  0.20044379  1.16760244]\n",
      "Episode finished after 19 timesteps\n",
      "[0.03480571 0.02857947 0.02402103 0.00195436]\n",
      "[ 0.0353773  -0.1668786   0.02406012  0.30211838]\n",
      "[ 0.03203973 -0.36233505  0.03010249  0.6022912 ]\n",
      "[ 0.02479303 -0.55786485  0.04214831  0.90430181]\n",
      "[ 0.01363573 -0.3633383   0.06023435  0.62515907]\n",
      "[ 0.00636896 -0.55924711  0.07273753  0.93618755]\n",
      "[-0.00481598 -0.75527066  0.09146128  1.25081136]\n",
      "[-0.01992139 -0.561432    0.11647751  0.98812078]\n",
      "[-0.03115003 -0.36804585  0.13623992  0.73417409]\n",
      "[-0.03851095 -0.17504277  0.15092341  0.48728286]\n",
      "[-0.04201181 -0.37193597  0.16066906  0.82346865]\n",
      "[-0.04945052 -0.56884811  0.17713844  1.16206639]\n",
      "[-0.06082749 -0.37641882  0.20037976  0.92974595]\n",
      "Episode finished after 13 timesteps\n",
      "[-0.0331335   0.03198782 -0.01228824 -0.0446444 ]\n",
      "[-0.03249375  0.2272838  -0.01318113 -0.34117891]\n",
      "[-0.02794807  0.42259079 -0.02000471 -0.63798908]\n",
      "[-0.01949625  0.6179859  -0.03276449 -0.93690409]\n",
      "[-0.00713654  0.813534   -0.05150257 -1.23969985]\n",
      "[ 0.00913414  1.00927812 -0.07629657 -1.54806177]\n",
      "[ 0.02931971  0.81515044 -0.1072578  -1.28012682]\n",
      "[ 0.04562271  0.62154615 -0.13286034 -1.0228626 ]\n",
      "[ 0.05805364  0.8181635  -0.15331759 -1.35413557]\n",
      "[ 0.07441691  1.01484111 -0.1804003  -1.69059039]\n",
      "Episode finished after 10 timesteps\n",
      "[ 0.04812918 -0.03421295  0.04645992 -0.02440775]\n",
      "[ 0.04744492 -0.22996932  0.04597177  0.28256426]\n",
      "[ 0.04284553 -0.42571582  0.05162305  0.58938473]\n",
      "[ 0.03433122 -0.62152117  0.06341075  0.89787193]\n",
      "[ 0.02190079 -0.81744268  0.08136819  1.20979383]\n",
      "[ 0.00555194 -1.01351559  0.10556406  1.52682597]\n",
      "[-0.01471837 -0.81981408  0.13610058  1.26886934]\n",
      "[-0.03111465 -1.01638599  0.16147797  1.6008907 ]\n",
      "[-0.05144237 -1.21300983  0.19349578  1.93925803]\n",
      "Episode finished after 9 timesteps\n",
      "[ 0.02024309 -0.03312531 -0.02280311 -0.02579674]\n",
      "[ 0.01958058  0.16231611 -0.02331905 -0.32558619]\n",
      "[ 0.02282691 -0.0324662  -0.02983077 -0.04034734]\n",
      "[ 0.02217758  0.16307054 -0.03063772 -0.3422909 ]\n",
      "[ 0.02543899 -0.03160243 -0.03748354 -0.05942456]\n",
      "[ 0.02480695  0.16403635 -0.03867203 -0.36369419]\n",
      "[ 0.02808767 -0.03051525 -0.04594591 -0.08345172]\n",
      "[ 0.02747737 -0.2249495  -0.04761495  0.19438852]\n",
      "[ 0.02297838 -0.41935914 -0.04372717  0.47167897]\n",
      "[ 0.01459119 -0.61383707 -0.0342936   0.75026533]\n",
      "[ 0.00231445 -0.80846968 -0.01928829  1.03196224]\n",
      "[-0.01385494 -1.00332981  0.00135096  1.31852766]\n",
      "[-0.03392154 -0.80822497  0.02772151  1.02626785]\n",
      "[-0.05008604 -1.00370481  0.04824687  1.32752404]\n",
      "[-0.07016013 -1.1994014   0.07479735  1.6349064 ]\n",
      "[-0.09414816 -1.00523262  0.10749548  1.36643751]\n",
      "[-0.11425281 -0.81160811  0.13482423  1.10922   ]\n",
      "[-0.13048497 -1.00821901  0.15700863  1.44097833]\n",
      "[-0.15064936 -0.81534028  0.18582819  1.20119011]\n",
      "Episode finished after 19 timesteps\n",
      "[-0.01273132 -0.03015533  0.02985842  0.04573713]\n",
      "[-0.01333443 -0.22569243  0.03077316  0.34768911]\n",
      "[-0.01784828 -0.42123826  0.03772695  0.64991487]\n",
      "[-0.02627304 -0.61686485  0.05072524  0.95423504]\n",
      "[-0.03861034 -0.81263116  0.06980994  1.26241362]\n",
      "[-0.05486296 -0.6184678   0.09505822  0.99238544]\n",
      "[-0.06723232 -0.42473744  0.11490593  0.73100687]\n",
      "[-0.07572707 -0.23137515  0.12952606  0.47658417]\n",
      "[-0.08035457 -0.03829716  0.13905775  0.22736751]\n",
      "[-0.08112052 -0.23510413  0.1436051   0.56047965]\n",
      "[-0.0858226  -0.43191858  0.15481469  0.8947374 ]\n",
      "[-0.09446097 -0.23919645  0.17270944  0.65444553]\n",
      "[-0.0992449  -0.0468463   0.18579835  0.42073727]\n",
      "[-0.10018183  0.14522424  0.19421309  0.191901  ]\n",
      "[-0.09727734 -0.05206887  0.19805111  0.53901733]\n",
      "[-0.09831872 -0.24934287  0.20883146  0.88699096]\n",
      "Episode finished after 16 timesteps\n"
     ]
    }
   ],
   "source": [
    "#Visualizar el entorno\n",
    "for i_episode in range(15):\n",
    "    observation = env.reset()\n",
    "    for t in range(100):\n",
    "        env.render()  #EL RENDER SÓLO FUNCIONA EN LOCAL: comentar línea si no se está en local\n",
    "        print(observation)\n",
    "        action = env.action_space.sample() #acción aleatoria\n",
    "        observation, reward, done, info = env.step(action) #ejecución de la acción elegida\n",
    "        if done:\n",
    "            print(\"Episode finished after {} timesteps\".format(t+1)) \n",
    "            break\n",
    "env.close() #cerramos la visualización del entorno"
   ]
  },
  {
   "cell_type": "markdown",
   "metadata": {
    "id": "d4f4BbyGSADU"
   },
   "source": [
    "## 2. Construcción del algoritmo de REINFORCE con línea de base"
   ]
  },
  {
   "cell_type": "markdown",
   "metadata": {
    "id": "HSRTWwXTSADU"
   },
   "source": [
    "El algoritmo REINFORCE es el principal método de gradientes de política. En el módulo teórico describíamos la generalización del teorema de los gradientes de política como:\n",
    "\n",
    "$$\\nabla J(\\theta) \\sim \\left[\\sum^{T-1}_{t=0} \\nabla_{\\theta}\\log \\pi_{\\theta}(a_t | s_t, \\theta)(G_t - b(s_t))\\right]$$\n",
    "\n",
    "donde $\\pi_{\\theta}$ es la política, $G_t$ el retorno, y $b(s_t)$ la línea de base.\n",
    "\n",
    "Esta línea de base puede ser **cualquier función o valor aleatorio que sea independiente de la acción** y puede ser estrictamente 0, recuperando así el algoritmo de REINFORCE básico. Añadir una línea de base nos permite reducir de manera significativa la variabilidad debida a posibles grandes diferencias de recompensa entre el primer y el último paso de un mismo episodio.\n",
    "\n",
    "Así, cada actualización será proporcional al producto del retorno y el gradiente de la probabilidad de tomar la acción acogida, dividido por la probabilidad de tomar esa acción.\n",
    "\n",
    "$$\\theta_{t+1} = \\theta + \\alpha(G_t-b(S_t))\\ln \\pi(A_t | S_t, \\theta)$$"
   ]
  },
  {
   "cell_type": "markdown",
   "metadata": {
    "id": "BfBXB_vhSADU"
   },
   "source": [
    "En este ejemplo usaremos como línea de base el valor de la media de las recompensas de cada episodio.\n",
    "\n",
    "La construcción del algoritmo se basa en el siguiente proceso (del mismo modo que hicimos con la DQN):\n",
    "\n",
    "<ol>\n",
    "    <li> Definir el modelo de red neuronal. </li>\n",
    "    <li> Definir el agente: cómo debe comportarse. </li>\n",
    "    <li> Fijar hiperparámetros. </li>\n",
    "    <li> Entrenar el agente.  </li>\n",
    "    \n",
    "</ol>\n"
   ]
  },
  {
   "cell_type": "markdown",
   "metadata": {
    "id": "o9ka4ztBSADV"
   },
   "source": [
    "Empezaremos importando la librería para trabajar en **Pytorch** y en otras necesarias:"
   ]
  },
  {
   "cell_type": "code",
   "execution_count": 14,
   "metadata": {
    "id": "Wh8OpfloeUeH"
   },
   "outputs": [],
   "source": [
    "import torch\n",
    "import numpy as np\n",
    "import matplotlib.pyplot as plt"
   ]
  },
  {
   "cell_type": "markdown",
   "metadata": {
    "id": "FthaybGBSADV"
   },
   "source": [
    "### 2.1. Definición del modelo"
   ]
  },
  {
   "cell_type": "markdown",
   "metadata": {
    "id": "wddKpFJvSADV"
   },
   "source": [
    "El primer paso es definir nuestra red neuronal. Para este ejemplo usaremos una red neuronal muy sencilla con dos capas lineales (una capa ReLU y una de salida Softmax) y el optimizador Adam.\n",
    "\n",
    "También indicaremos la opción de poder trabajar con **CPU** o **CUDA** por si se tiene la opción, puesto que en aprendizaje por refuerzo la mayoría de los procesos suelen requerir mucha máquina y la aceleración por hardware es usualmente necesaria. **Este ejemplo se puede ejecutar con CPU**.\n"
   ]
  },
  {
   "cell_type": "code",
   "execution_count": 15,
   "metadata": {
    "id": "GEJFh8kpGm2a"
   },
   "outputs": [],
   "source": [
    "class PGReinforce(torch.nn.Module):\n",
    "    \n",
    "    def __init__(self, env, learning_rate=1e-3, device='cpu'):\n",
    "        super(PGReinforce, self).__init__()\n",
    "        self.device=device\n",
    "        self.n_inputs = env.observation_space.shape[0]\n",
    "        self.n_outputs = env.action_space.n\n",
    "        self.learning_rate = learning_rate\n",
    "        \n",
    "        ### Construcción de la red neuronal\n",
    "        self.model = torch.nn.Sequential(\n",
    "            torch.nn.Linear(self.n_inputs, 16), \n",
    "            torch.nn.ReLU(), \n",
    "            torch.nn.Linear(16, self.n_outputs),\n",
    "            torch.nn.Softmax(dim=-1))\n",
    "        \n",
    "        self.optimizer = torch.optim.Adam(self.parameters(), lr=self.learning_rate)\n",
    "        \n",
    "        \n",
    "        ### Se ofrece la opción de trabajar con cuda\n",
    "        if self.device == 'cuda':\n",
    "            self.model.cuda()\n",
    "\n",
    "    #Obtención de las probabilidades de las posibles acciones       \n",
    "    def get_action_prob(self, state):\n",
    "        action_probs = self.model(torch.FloatTensor(state))\n",
    "        return action_probs"
   ]
  },
  {
   "cell_type": "markdown",
   "metadata": {
    "id": "MSWd2Q0DSADW"
   },
   "source": [
    "### 2.2. Definición del agente"
   ]
  },
  {
   "cell_type": "markdown",
   "metadata": {
    "id": "f9w8n3MiSADW"
   },
   "source": [
    "Una vez que tenemos el modelo definido, solo nos queda definir el comportamiento del agente, cómo aprende.\n",
    "\n",
    "Como se explica en el texto teórico, en este caso, **no** necesitamos incluir ningún método de exploración-explotación, ni un *buffer* de repetición de experiencias, ni una red objetivo, como sí ocurre con las DQN, dado que:\n",
    "\n",
    "<ol>\n",
    "    <li> Exploración: se realiza automáticamente gracias a que la red devuelve una distribución uniforme de probabilidad de las posibles acciones, por lo que el comportamiento aleatorio al principio del proceso ya está considerado. </li>\n",
    "    <li> <i>Buffer</i>: no hay necesidad porque no podemos entrenar con los datos obtenidos de la política anterior, ya que el agente se orienta por la política, no por los valores obtenidos de sus acciones.</li>\n",
    "    <li> Red objetivo: la utilizábamos para romper la correlación en el cálculo de los valores <i>Q</i>, pero en los PG no calculamos ningún valor de <i>Q</i>. </li>\n",
    "    \n",
    "</ol>\n",
    "\n",
    "El proceso del agente se ciñe, pues, en elegir acciones según su probabilidad, actualizar la red según la ecuación anterior y calcular la pérdida. Este proceso se repite hasta que el agente consiga la recompensa objetivo a partir de la cual se considera que ha aprendido a jugar (en **CartPole** es 195, como se indica en la variable `env.spec.reward_threshold`) o hasta que se agote el límite máximo de episodios establecido (hiperparámetro fijado).\n"
   ]
  },
  {
   "cell_type": "code",
   "execution_count": 16,
   "metadata": {
    "id": "iC_M5ASxGr_1"
   },
   "outputs": [],
   "source": [
    "class reinforceAgent:\n",
    "        \n",
    "    def __init__(self, env, pgnetwork):\n",
    "        \n",
    "        self.env = env\n",
    "        self.pgnetwork = pgnetwork\n",
    "        self.nblock = 100 # bloque de los X últimos episodios de los que se calculará la media de recompensa\n",
    "        self.reward_threshold = self.env.spec.reward_threshold # recompensa media a partir de la cual se considera\n",
    "                                                               # que el agente ha aprendido a jugar\n",
    "        self.initialize()\n",
    "        \n",
    "        \n",
    "    def initialize(self):\n",
    "        self.batch_rewards = []\n",
    "        self.batch_actions = []\n",
    "        self.batch_states = []\n",
    "        self.batch_counter = 1\n",
    "        self.training_rewards = []\n",
    "        self.mean_training_rewards = []\n",
    "        self.update_loss = []\n",
    "        \n",
    "        \n",
    "    ## Entrenamiento\n",
    "    def train(self, gamma=0.99, max_episodes=2000, batch_size=10):\n",
    "        self.gamma = gamma\n",
    "        self.batch_size = batch_size\n",
    "        \n",
    "        episode = 0\n",
    "        action_space = np.arange(self.env.action_space.n)\n",
    "        training = True\n",
    "        print(\"Training...\")\n",
    "        while training:\n",
    "            state0 = env.reset()\n",
    "            episode_states = []\n",
    "            episode_rewards = []\n",
    "            episode_actions = []\n",
    "            gamedone = False\n",
    "            \n",
    "            while gamedone == False:\n",
    "                # Obtenemos las acciones\n",
    "                action_probs = self.pgnetwork.get_action_prob(state0).detach().numpy()\n",
    "                action = np.random.choice(action_space, p=action_probs)\n",
    "                next_state, reward, gamedone, _ = env.step(action)\n",
    "                \n",
    "                # Almacenamos las experiencias que se van obteniendo en este episodio\n",
    "                episode_states.append(state0)\n",
    "                episode_rewards.append(reward)\n",
    "                episode_actions.append(action)\n",
    "                state0 = next_state\n",
    "                \n",
    "                \n",
    "                if gamedone:\n",
    "                    episode += 1\n",
    "                    # Calculamos el término del retorno menos la línea de base\n",
    "                    self.batch_rewards.extend(self.discount_rewards(episode_rewards))\n",
    "                    self.batch_states.extend(episode_states)\n",
    "                    self.batch_actions.extend(episode_actions)\n",
    "                    self.training_rewards.append(sum(episode_rewards)) # guardamos las recompensas obtenidas\n",
    "                    \n",
    "                    \n",
    "                    # Actualizamos la red cuando se completa el tamaño del batch\n",
    "                    if self.batch_counter == self.batch_size:\n",
    "                        self.update(self.batch_states, self.batch_rewards, self.batch_actions)\n",
    "                        self.update_loss = []\n",
    "                    \n",
    "                        # Reseteamos las variables del epsiodio\n",
    "                        self.batch_rewards = []\n",
    "                        self.batch_actions = []\n",
    "                        self.batch_states = []\n",
    "                        self.batch_counter = 1\n",
    "                    \n",
    "                    #Actualizamos el contador del batch\n",
    "                    self.batch_counter += 1\n",
    "                    \n",
    "                    # Calculamos la media de recompensa de los últimos X episodios\n",
    "                    mean_rewards = np.mean(self.training_rewards[-self.nblock:])\n",
    "                    self.mean_training_rewards.append(mean_rewards)\n",
    "                    \n",
    "                    print(\"\\rEpisode {:d} Mean Rewards {:.2f}\\t\\t\".format(\n",
    "                        episode, mean_rewards), end=\"\")\n",
    "                    \n",
    "                    # Comprobamos que todavía quedan episodios\n",
    "                    if episode >= max_episodes:\n",
    "                        training = False\n",
    "                        print('\\nEpisode limit reached.')\n",
    "                        break\n",
    "                    \n",
    "                    # Termina el juego si la media de recompensas ha llegado al umbral fijado para este juego  \n",
    "                    if mean_rewards >= self.reward_threshold:\n",
    "                        training = False\n",
    "                        print('\\nEnvironment solved in {} episodes!'.format(\n",
    "                            episode))\n",
    "                        break\n",
    "                        \n",
    "\n",
    "    def discount_rewards(self, rewards):\n",
    "        discount_r = np.zeros_like(rewards)\n",
    "        timesteps = range(len(rewards))\n",
    "        reward_sum = 0\n",
    "        for i in reversed(timesteps):  #revertimos la dirección del vector para hacer la suma cumulativa\n",
    "            reward_sum = rewards[i] + self.gamma*reward_sum\n",
    "            discount_r[i] = reward_sum\n",
    "        baseline = np.mean(discount_r) # establecemos la media de la recompensa como línea de base\n",
    "        return discount_r - baseline \n",
    "    \n",
    "    \n",
    "    ## Actualización                \n",
    "    def update(self, batch_s, batch_r, batch_a):\n",
    "        self.pgnetwork.optimizer.zero_grad()  # eliminamos cualquier gradiente pasado\n",
    "        state_t = torch.FloatTensor(batch_s)\n",
    "        reward_t = torch.FloatTensor(batch_r)       \n",
    "        action_t = torch.LongTensor(batch_a)             \n",
    "        loss = self.calculate_loss(state_t, action_t, reward_t) # calculamos la pérdida\n",
    "        loss.backward() # hacemos la diferencia para obtener los gradientes\n",
    "        self.pgnetwork.optimizer.step() # aplicamos los gradientes a la red neuronal\n",
    "        # Guardamos los valores de pérdida\n",
    "        if self.pgnetwork.device == 'cuda':\n",
    "            self.update_loss.append(loss.detach().cpu().numpy())\n",
    "        else:\n",
    "            self.update_loss.append(loss.detach().numpy())\n",
    "        \n",
    "        \n",
    "    ## Cálculo de la pérdida\n",
    "    # Recordatorio: cada actualización es proporcional al producto del retorno y el gradiente de la probabilidad\n",
    "    # de tomar la acción tomada, dividido por la probabilidad de tomar esa acción (logaritmo natural)\n",
    "    def calculate_loss(self, state_t, action_t, reward_t):\n",
    "        logprob = torch.log(self.pgnetwork.get_action_prob(state_t))\n",
    "        selected_logprobs = reward_t * \\\n",
    "                        logprob[np.arange(len(action_t)), action_t]\n",
    "        loss = -selected_logprobs.mean()\n",
    "        return loss\n",
    "   \n",
    "\n",
    "    def plot_rewards(self):\n",
    "        plt.figure(figsize=(12,8))\n",
    "        plt.plot(self.training_rewards, label='Rewards')\n",
    "        plt.plot(self.mean_training_rewards, label='Mean Rewards')\n",
    "        plt.axhline(self.reward_threshold, color='r', label=\"Reward threshold\")\n",
    "        plt.xlabel('Episodes')\n",
    "        plt.ylabel('Rewards')\n",
    "        plt.legend(loc=\"upper left\")\n",
    "        plt.show()"
   ]
  },
  {
   "cell_type": "markdown",
   "metadata": {
    "id": "fAYLKWuCSADZ"
   },
   "source": [
    "### 2.3. Hiperparámetros"
   ]
  },
  {
   "cell_type": "markdown",
   "metadata": {
    "id": "urittPCXSADa"
   },
   "source": [
    "Fijamos los hiperparámetros necesarios:"
   ]
  },
  {
   "cell_type": "code",
   "execution_count": 17,
   "metadata": {
    "id": "eHkwKhTHGwgC"
   },
   "outputs": [],
   "source": [
    "lr = 0.01            #Velocidad aprendizaje\n",
    "MAX_EPISODES = 5000  #Número máximo de episodios (el agente debe aprender antes de llegar a este valor)\n",
    "GAMMA = 0.99\n",
    "BATCH_SIZE = 10"
   ]
  },
  {
   "cell_type": "markdown",
   "metadata": {
    "id": "8VsR-hc0SADb"
   },
   "source": [
    "### 2.4. Entrenamiento"
   ]
  },
  {
   "cell_type": "markdown",
   "metadata": {
    "id": "VB9pNLH0SADb"
   },
   "source": [
    "Cargamos el modelo de red neuronal:"
   ]
  },
  {
   "cell_type": "code",
   "execution_count": 18,
   "metadata": {
    "id": "SCm5H7gbSADb"
   },
   "outputs": [],
   "source": [
    "pgR = PGReinforce(env, learning_rate=lr)"
   ]
  },
  {
   "cell_type": "markdown",
   "metadata": {
    "id": "_j6BTHEISADb"
   },
   "source": [
    "Creamos nuestro agente:"
   ]
  },
  {
   "cell_type": "code",
   "execution_count": 19,
   "metadata": {
    "id": "4rcK_JHrSADb"
   },
   "outputs": [],
   "source": [
    "agent = reinforceAgent(env, pgR)"
   ]
  },
  {
   "cell_type": "markdown",
   "metadata": {
    "id": "cJrWwZmoSADb"
   },
   "source": [
    "Entrenamos el agente con los hiperparámetros establecidos:"
   ]
  },
  {
   "cell_type": "code",
   "execution_count": 20,
   "metadata": {
    "colab": {
     "base_uri": "https://localhost:8080/"
    },
    "id": "P7ZZhseaG3qW",
    "outputId": "896fc0b7-4460-4ba5-b322-9440b17ccfb4"
   },
   "outputs": [
    {
     "name": "stdout",
     "output_type": "stream",
     "text": [
      "Training...\n",
      "Episode 838 Mean Rewards 195.00\t\t\n",
      "Environment solved in 838 episodes!\n"
     ]
    }
   ],
   "source": [
    "agent.train(gamma=GAMMA, max_episodes=MAX_EPISODES, batch_size=BATCH_SIZE)"
   ]
  },
  {
   "cell_type": "markdown",
   "metadata": {
    "id": "MVEP2EKsSADc"
   },
   "source": [
    "### 2.5. Representar aprendizaje del agente"
   ]
  },
  {
   "cell_type": "code",
   "execution_count": 21,
   "metadata": {
    "colab": {
     "base_uri": "https://localhost:8080/",
     "height": 497
    },
    "id": "50KOa7FPv4rD",
    "outputId": "ae3e9618-a561-4c3e-e188-0159fcc72316"
   },
   "outputs": [
    {
     "data": {
      "image/png": "[encoded data removed]",
      "text/plain": [
       "<Figure size 864x576 with 1 Axes>"
      ]
     },
     "metadata": {
      "needs_background": "light"
     },
     "output_type": "display_data"
    }
   ],
   "source": [
    "agent.plot_rewards()"
   ]
  }
 ],
 "metadata": {
  "colab": {
   "collapsed_sections": [],
   "name": "M2.883_M10_PolicyGradients_Ejemplo.ipynb",
   "provenance": [],
   "toc_visible": true
  },
  "kernelspec": {
   "display_name": "Python 3",
   "language": "python",
   "name": "python3"
  },
  "language_info": {
   "codemirror_mode": {
    "name": "ipython",
    "version": 3
   },
   "file_extension": ".py",
   "mimetype": "text/x-python",
   "name": "python",
   "nbconvert_exporter": "python",
   "pygments_lexer": "ipython3",
   "version": "3.8.8"
  }
 },
 "nbformat": 4,
 "nbformat_minor": 1
}
