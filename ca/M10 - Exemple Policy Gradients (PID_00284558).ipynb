{
 "cells": [
  {
   "cell_type": "markdown",
   "metadata": {
    "id": "MJEAC2XeSADL"
   },
   "source": [
    "<div style=\"width: 100%; clear: both;\">\n",
    "<div style=\"float: left; width: 50%;\">\n",
    "<img src=\"http://www.uoc.edu/portal/_resources/common/imatges/marca_UOC/UOC_Masterbrand.jpg\", align=\"left\">\n",
    "</div>\n",
    "<div style=\"float: right; width: 50%;\">\n",
    "<p style=\"margin: 0; padding-top: 22px; text-align:right;\">M2.883 · Aprenentatge per reforç</p>\n",
    "<p style=\"margin: 0; text-align:right;\">Màster universitari de Ciència de Dades</p>\n",
    "<p style=\"margin: 0; text-align:right; padding-button: 100px;\">Estudis d'Informàtica, Multimèdia i Telecomunicació</p>\n",
    "</div>\n",
    "</div>\n",
    "<div style=\"width:100%;\">&nbsp;</div>\n",
    "\n",
    "\n",
    "# Mòdul 10: exemple de Policy Gradients\n",
    "\n",
    "En aquest _notebook_ veurem un exemple d'implementació dels algorismes de gradients de política REINFORCE amb línia de base utilitzant el mateix entorn d'OpenAI que utilitzem per a la DQN per poder comparar millor els dos mètodes.\n",
    "\n",
    "Tant per a aquest exemple com per a les pràctiques posteriors s'utilitzarà el <i>framework</i> de __Pytorch__."
   ]
  },
  {
   "cell_type": "markdown",
   "metadata": {
    "id": "d3InlcjoSADQ"
   },
   "source": [
    "## 1. Entorn CartPole"
   ]
  },
  {
   "cell_type": "markdown",
   "metadata": {
    "id": "udqJgErkSADR"
   },
   "source": [
    "Com en l'exemple de la DQN, usarem de nou l'entorn del joc de **CartPole**, en el qual l'objectiu és aprendre a controlar un objecte. El joc consta d'un carretó i d'un pal col·locat verticalment damunt del carretó. El pal s'aguanta únicament per gravetat, mentre que el carretó es mou a dreta i a esquerra sense parar. L'objectiu de l'agent és controlar la velocitat del carretó augmentant-la o disminuint-la amb l'objectiu d'evitar que el pal caigui. "
   ]
  },
  {
   "cell_type": "markdown",
   "metadata": {
    "id": "VvO8pvp5SADR"
   },
   "source": [
    "### 1.1 Establiment de l'entorn"
   ]
  },
  {
   "cell_type": "markdown",
   "metadata": {
    "id": "Hrn3j74PSADR"
   },
   "source": [
    "En primer lloc, carregarem la llibreria __gym__ i inicialitzarem l'entorn."
   ]
  },
  {
   "cell_type": "code",
   "execution_count": 1,
   "metadata": {
    "id": "Z9oAZ1BHeWLc"
   },
   "outputs": [],
   "source": [
    "import gym\n",
    "\n",
    "env = gym.envs.make(\"CartPole-v0\")"
   ]
  },
  {
   "cell_type": "markdown",
   "metadata": {
    "id": "68jx37WiSADS"
   },
   "source": [
    "Cada entorn té definit tot el necessari perquè un agent pugui aprendre: tenim un joc que funciona d'una manera determinada i podem entrenar un agent perquè aprengui a jugar a aquest joc sense cap altra ajuda que la d'experimentar amb el joc observant, actuant i rebent recompenses. Així, l'entorn del joc ja defineix quines accions es poden prendre, quins estats poden presentar-se, en què consistirà la recompensa, etc. "
   ]
  },
  {
   "cell_type": "markdown",
   "metadata": {
    "id": "pWs6PdCESADT"
   },
   "source": [
    "A continuació, podem visualitzar l'entorn de __CartPole__ generant un bucle sobre uns pocs episodis i, en acabar, el tanquem. "
   ]
  },
  {
   "cell_type": "code",
   "execution_count": 2,
   "metadata": {
    "colab": {
     "base_uri": "https://localhost:8080/",
     "height": 380
    },
    "id": "fa71Hyn9SADT",
    "outputId": "e1fa6d48-2437-4560-c542-66d0d439fd2b"
   },
   "outputs": [
    {
     "name": "stdout",
     "output_type": "stream",
     "text": [
      "[ 0.01645362  0.00139545 -0.02368032 -0.03830148]\n",
      "[ 0.01648153  0.19684883 -0.02444635 -0.33836072]\n",
      "[ 0.0204185   0.39230996 -0.03121356 -0.63865132]\n",
      "[ 0.0282647   0.19763682 -0.04398659 -0.35595915]\n",
      "[ 0.03221744  0.00316697 -0.05110577 -0.07746441]\n",
      "[ 0.03228078 -0.19118652 -0.05265506  0.19866663]\n",
      "[ 0.02845705  0.00464747 -0.04868173 -0.11015066]\n",
      "[ 0.02855     0.20043199 -0.05088474 -0.41778628]\n",
      "[ 0.03255864  0.00606667 -0.05924047 -0.14156933]\n",
      "[ 0.03267997  0.20198482 -0.06207185 -0.45233755]\n",
      "[ 0.03671967  0.00779308 -0.0711186  -0.17984832]\n",
      "[ 0.03687553  0.20385686 -0.07471557 -0.4940918 ]\n",
      "[ 0.04095267  0.00986377 -0.08459741 -0.22585995]\n",
      "[ 0.04114994  0.20608648 -0.08911461 -0.54398339]\n",
      "[ 0.04527167  0.40234028 -0.09999427 -0.86336099]\n",
      "[ 0.05331848  0.20871144 -0.11726149 -0.60371793]\n",
      "[ 0.05749271  0.40526127 -0.12933585 -0.93091397]\n",
      "[ 0.06559793  0.21209964 -0.14795413 -0.68151033]\n",
      "[ 0.06983992  0.01930849 -0.16158434 -0.43882304]\n",
      "[ 0.07022609  0.21630436 -0.1703608  -0.77776697]\n",
      "[ 0.07455218  0.02388327 -0.18591614 -0.54315781]\n",
      "[ 0.07502985 -0.16820634 -0.19677929 -0.31433373]\n",
      "[ 0.07166572  0.02909473 -0.20306597 -0.66205435]\n",
      "Episode finished after 23 timesteps\n",
      "[-0.02580728 -0.00657605  0.02269808  0.028331  ]\n",
      "[-0.0259388  -0.20201603  0.0232647   0.32808812]\n",
      "[-0.02997912 -0.00723287  0.02982646  0.04283166]\n",
      "[-0.03012378  0.18744896  0.03068309 -0.24029353]\n",
      "[-0.0263748   0.38211947  0.02587722 -0.52314244]\n",
      "[-0.01873241  0.18664305  0.01541437 -0.22241892]\n",
      "[-0.01499955  0.38154133  0.010966   -0.51019996]\n",
      "[-0.00736872  0.18626662  0.000762   -0.21408158]\n",
      "[-0.00364339 -0.00886621 -0.00351964  0.07884162]\n",
      "[-0.00382071 -0.20393753 -0.0019428   0.37041202]\n",
      "[-0.00789946 -0.00878803  0.00546544  0.07711713]\n",
      "[-0.00807522 -0.20398791  0.00700778  0.3715194 ]\n",
      "[-0.01215498 -0.39920871  0.01443817  0.66640369]\n",
      "[-0.02013916 -0.59452846  0.02776624  0.96359746]\n",
      "[-0.03202973 -0.39979035  0.04703819  0.67976511]\n",
      "[-0.04002553 -0.59553304  0.06063349  0.9868785 ]\n",
      "[-0.05193619 -0.79141223  0.08037106  1.29797268]\n",
      "[-0.06776444 -0.5973975   0.10633052  1.03149368]\n",
      "[-0.07971239 -0.40383838  0.12696039  0.77399705]\n",
      "[-0.08778916 -0.60045696  0.14244033  1.10377732]\n",
      "[-0.09979829 -0.40746614  0.16451588  0.85895884]\n",
      "[-0.10794762 -0.21492125  0.18169505  0.62219096]\n",
      "[-0.11224604 -0.41205278  0.19413887  0.96614565]\n",
      "Episode finished after 23 timesteps\n",
      "[-0.01703816 -0.03628814 -0.01942376 -0.02860649]\n",
      "[-0.01776393 -0.23112623 -0.01999589  0.25788529]\n",
      "[-0.02238645 -0.42595709 -0.01483818  0.54419475]\n",
      "[-0.03090559 -0.2306298  -0.00395429  0.24687381]\n",
      "[-0.03551819 -0.42569506  0.00098319  0.53830685]\n",
      "[-0.04403209 -0.23058694  0.01174933  0.24593387]\n",
      "[-0.04864383 -0.03563475  0.016668   -0.04302   ]\n",
      "[-0.04935652 -0.2309917   0.0158076   0.25487488]\n",
      "[-0.05397636 -0.42633575  0.0209051   0.55250158]\n",
      "[-0.06250307 -0.62174495  0.03195513  0.85169699]\n",
      "[-0.07493797 -0.4270729   0.04898907  0.5692312 ]\n",
      "[-0.08347943 -0.62284647  0.0603737   0.87693627]\n",
      "[-0.09593636 -0.81873471  0.07791242  1.18797239]\n",
      "[-0.11231105 -0.62470447  0.10167187  0.92069303]\n",
      "[-0.12480514 -0.82104258  0.12008573  1.24351938]\n",
      "[-0.14122599 -1.01748322  0.14495612  1.57127871]\n",
      "[-0.16157566 -1.21400708  0.17638169  1.90544086]\n",
      "Episode finished after 17 timesteps\n",
      "[-0.02636992  0.04125367 -0.02594825  0.04193098]\n",
      "[-0.02554484 -0.15348677 -0.02510963  0.32631537]\n",
      "[-0.02861458 -0.34824239 -0.01858332  0.61097525]\n",
      "[-0.03557943 -0.54309973 -0.00636382  0.89774762]\n",
      "[-0.04644142 -0.73813485  0.01159114  1.18842342]\n",
      "[-0.06120412 -0.93340513  0.03535961  1.48471688]\n",
      "[-0.07987222 -0.73873163  0.06505394  1.20328273]\n",
      "[-0.09464685 -0.54450825  0.0891196   0.93167628]\n",
      "[-0.10553702 -0.35069461  0.10775312  0.66827605]\n",
      "[-0.11255091 -0.54713687  0.12111864  0.9928486 ]\n",
      "[-0.12349365 -0.35382529  0.14097562  0.74052739]\n",
      "[-0.13057015 -0.16090197  0.15578616  0.49532297]\n",
      "[-0.13378819 -0.35783811  0.16569262  0.8327659 ]\n",
      "[-0.14094495 -0.55478946  0.18234794  1.17263789]\n",
      "[-0.15204074 -0.36244459  0.2058007   0.94221771]\n",
      "Episode finished after 15 timesteps\n",
      "[-0.0128874   0.03861204 -0.03769603  0.03702814]\n",
      "[-0.01211516  0.23425372 -0.03695546 -0.26730589]\n",
      "[-0.00743009  0.42988307 -0.04230158 -0.57141199]\n",
      "[ 0.00116757  0.23537904 -0.05372982 -0.29234991]\n",
      "[ 0.00587516  0.0410627  -0.05957682 -0.01708499]\n",
      "[ 0.00669641  0.23698621 -0.05991852 -0.32795408]\n",
      "[ 0.01143613  0.43290773 -0.0664776  -0.63891448]\n",
      "[ 0.02009429  0.23877259 -0.07925589 -0.367885  ]\n",
      "[ 0.02486974  0.43492601 -0.08661359 -0.68446836]\n",
      "[ 0.03356826  0.63113695 -0.10030296 -1.00311406]\n",
      "[ 0.046191    0.43748764 -0.12036524 -0.74353969]\n",
      "[ 0.05494075  0.24421441 -0.13523603 -0.49102939]\n",
      "[ 0.05982504  0.05123334 -0.14505662 -0.24383911]\n",
      "[ 0.06084971  0.2480972  -0.1499334  -0.57853086]\n",
      "[ 0.06581165  0.44496715 -0.16150402 -0.91443823]\n",
      "[ 0.07471099  0.25235458 -0.17979279 -0.67655523]\n",
      "[ 0.07975808  0.06012585 -0.19332389 -0.44543476]\n",
      "[ 0.0809606  -0.13181093 -0.20223259 -0.21937681]\n",
      "[ 0.07832438  0.06554089 -0.20662012 -0.5684236 ]\n",
      "Episode finished after 19 timesteps\n",
      "[ 0.02354972 -0.02226092 -0.03815053  0.04262935]\n",
      "[ 0.0231045  -0.21681563 -0.03729794  0.32303553]\n",
      "[ 0.01876819 -0.41138717 -0.03083723  0.6037268 ]\n",
      "[ 0.01054045 -0.60606457 -0.0187627   0.88653936]\n",
      "[-0.00158085 -0.41069302 -0.00103191  0.58801771]\n",
      "[-0.00979471 -0.21555663  0.01072845  0.2950099 ]\n",
      "[-0.01410584 -0.02058926  0.01662864  0.00572978]\n",
      "[-0.01451762  0.17429032  0.01674324 -0.28166057]\n",
      "[-0.01103182 -0.02106641  0.01111003  0.01625573]\n",
      "[-0.01145315  0.17389446  0.01143514 -0.27290125]\n",
      "[-0.00797526 -0.02138877  0.00597712  0.02336631]\n",
      "[-0.00840303  0.17364695  0.00644444 -0.2674248 ]\n",
      "[-0.00493009 -0.02156637  0.00109595  0.02728377]\n",
      "[-0.00536142 -0.21670403  0.00164162  0.32031228]\n",
      "[-0.0096955  -0.41184932  0.00804787  0.61351246]\n",
      "[-0.01793249 -0.6070828   0.02031812  0.90871925]\n",
      "[-0.03007414 -0.41224168  0.0384925   0.62249101]\n",
      "[-0.03831898 -0.21767776  0.05094232  0.34217531]\n",
      "[-0.04267253 -0.02331619  0.05778583  0.06598173]\n",
      "[-0.04313886 -0.21921697  0.05910546  0.37632201]\n",
      "[-0.04752319 -0.41512643  0.0666319   0.68703993]\n",
      "[-0.05582572 -0.61110692  0.0803727   0.99993361]\n",
      "[-0.06804786 -0.41714583  0.10037138  0.73353533]\n",
      "[-0.07639078 -0.22354334  0.11504208  0.47405285]\n",
      "[-0.08086165 -0.42008599  0.12452314  0.8006659 ]\n",
      "[-0.08926336 -0.6166758   0.14053646  1.12978259]\n",
      "[-0.10159688 -0.81333006  0.16313211  1.4630376 ]\n",
      "[-0.11786348 -1.01003148  0.19239286  1.80192086]\n",
      "Episode finished after 28 timesteps\n",
      "[ 0.02506417  0.04191395 -0.04492871 -0.04449122]\n",
      "[ 0.02590245  0.2376504  -0.04581853 -0.35100421]\n",
      "[ 0.03065546  0.04320898 -0.05283862 -0.0731141 ]\n",
      "[ 0.03151964  0.23904706 -0.0543009  -0.38198857]\n",
      "[ 0.03630058  0.04473649 -0.06194067 -0.10690893]\n",
      "[ 0.03719531 -0.14944566 -0.06407885  0.1656068 ]\n",
      "[ 0.03420639 -0.34359461 -0.06076671  0.43740623]\n",
      "[ 0.0273345  -0.14766752 -0.05201859  0.12620362]\n",
      "[ 0.02438115  0.04815956 -0.04949452 -0.18242624]\n",
      "[ 0.02534434  0.2439535  -0.05314304 -0.49030295]\n",
      "[ 0.03022341  0.43978328 -0.0629491  -0.79924962]\n",
      "[ 0.03901908  0.24557876 -0.07893409 -0.52701463]\n",
      "[ 0.04393065  0.051651   -0.08947439 -0.26021127]\n",
      "[ 0.04496367  0.24792874 -0.09467861 -0.57972054]\n",
      "[ 0.04992225  0.05425218 -0.10627302 -0.31830076]\n",
      "[ 0.05100729 -0.13920833 -0.11263904 -0.06093266]\n",
      "[ 0.04822312 -0.33255017 -0.11385769  0.19419639]\n",
      "[ 0.04157212 -0.13599923 -0.10997376 -0.13212298]\n",
      "[ 0.03885214  0.06051215 -0.11261622 -0.45737651]\n",
      "[ 0.04006238  0.25703103 -0.12176375 -0.78332678]\n",
      "[ 0.045203    0.45359714 -0.13743029 -1.11170301]\n",
      "[ 0.05427494  0.6502301  -0.15966435 -1.4441489 ]\n",
      "[ 0.06727955  0.45739242 -0.18854733 -1.20531364]\n",
      "Episode finished after 23 timesteps\n",
      "[-0.04965317  0.0481586  -0.01947791 -0.01835529]\n",
      "[-0.04868999 -0.14667868 -0.01984501  0.26811905]\n",
      "[-0.05162357 -0.34151187 -0.01448263  0.55447725]\n",
      "[-0.05845381 -0.14618959 -0.00339309  0.2572668 ]\n",
      "[-0.0613776  -0.34126294  0.00175225  0.54887757]\n",
      "[-0.06820286 -0.14616564  0.0127298   0.25674724]\n",
      "[-0.07112617  0.04877227  0.01786475 -0.03189348]\n",
      "[-0.07015072 -0.14660125  0.01722688  0.266372  ]\n",
      "[-0.07308275 -0.34196478  0.02255432  0.56443826]\n",
      "[-0.07992204 -0.5373958   0.03384308  0.86414064]\n",
      "[-0.09066996 -0.73296171  0.0511259   1.16726949]\n",
      "[-0.10532919 -0.53854092  0.07447128  0.89104383]\n",
      "[-0.11610001 -0.73458991  0.09229216  1.20617656]\n",
      "[-0.13079181 -0.5407737   0.11641569  0.94378493]\n",
      "[-0.14160729 -0.73725528  0.13529139  1.27066138]\n",
      "[-0.15635239 -0.54409468  0.16070462  1.02322255]\n",
      "[-0.16723428 -0.74094964  0.18116907  1.36174427]\n",
      "[-0.18205328 -0.93781972  0.20840396  1.70518915]\n",
      "Episode finished after 18 timesteps\n",
      "[ 0.04457459 -0.00242757  0.01884761 -0.04281544]\n",
      "[ 0.04452603  0.19241911  0.0179913  -0.32949269]\n",
      "[ 0.04837442  0.38728039  0.01140145 -0.61644814]\n"
     ]
    },
    {
     "name": "stdout",
     "output_type": "stream",
     "text": [
      "[ 0.05612002  0.19200102 -0.00092751 -0.32019618]\n",
      "[ 0.05996004 -0.00310771 -0.00733144 -0.0278059 ]\n",
      "[ 0.05989789 -0.19812376 -0.00788755  0.2625549 ]\n",
      "[ 0.05593542 -0.00289011 -0.00263646 -0.03260538]\n",
      "[ 0.05587761  0.19226955 -0.00328856 -0.32611897]\n",
      "[ 0.059723   -0.00280542 -0.00981094 -0.03447493]\n",
      "[ 0.0596669  -0.19778532 -0.01050044  0.25509647]\n",
      "[ 0.05571119 -0.39275578 -0.00539851  0.54444897]\n",
      "[ 0.04785607 -0.58780146  0.00549047  0.83542607]\n",
      "[ 0.03610004 -0.78299798  0.02219899  1.12983062]\n",
      "[ 0.02044008 -0.97840351  0.0447956   1.42939266]\n",
      "[ 8.72014576e-04 -7.83862412e-01  7.33834538e-02  1.15103925e+00]\n",
      "[-0.01480523 -0.58977069  0.09640424  0.8822406 ]\n",
      "[-0.02660065 -0.7860605   0.11404905  1.20360714]\n",
      "[-0.04232186 -0.98245699  0.13812119  1.52974579]\n",
      "[-0.061971   -0.78924446  0.16871611  1.28316575]\n",
      "[-0.07775589 -0.59662415  0.19437942  1.04770532]\n",
      "Episode finished after 20 timesteps\n",
      "[ 0.02540479 -0.04004038 -0.0393922   0.02741556]\n",
      "[ 0.02460399  0.1556237  -0.03884389 -0.27743118]\n",
      "[ 0.02771646  0.35127766 -0.04439252 -0.58210797]\n",
      "[ 0.03474201  0.15680488 -0.05603468 -0.3037333 ]\n",
      "[ 0.03787811  0.35267877 -0.06210934 -0.61354857]\n",
      "[ 0.04493169  0.54861114 -0.07438031 -0.92512886]\n",
      "[ 0.05590391  0.74465462 -0.09288289 -1.24022866]\n",
      "[ 0.070797    0.55083991 -0.11768746 -0.97802808]\n",
      "[ 0.0818138   0.74732635 -0.13724803 -1.30523933]\n",
      "[ 0.09676033  0.94389537 -0.16335281 -1.6375445 ]\n",
      "[ 0.11563823  1.14051264 -0.1961037  -1.97635664]\n",
      "Episode finished after 11 timesteps\n",
      "[-0.04381967  0.03540593 -0.02785881  0.02958983]\n",
      "[-0.04311155  0.23091609 -0.02726701 -0.27175104]\n",
      "[-0.03849323  0.03619362 -0.03270204  0.01220858]\n",
      "[-0.03776936 -0.15844445 -0.03245786  0.29439691]\n",
      "[-0.04093825  0.03712485 -0.02656993 -0.00834347]\n",
      "[-0.04019575 -0.15760617 -0.0267368   0.27583933]\n",
      "[-0.04334787  0.03788683 -0.02122001 -0.02515506]\n",
      "[-0.04259014 -0.15692448 -0.02172311  0.26075791]\n",
      "[-0.04572863  0.03850073 -0.01650795 -0.03869683]\n",
      "[-0.04495861 -0.15638066 -0.01728189  0.2487323 ]\n",
      "[-0.04808623  0.03898378 -0.01230724 -0.04935122]\n",
      "[-0.04730655 -0.15595955 -0.01329427  0.2394234 ]\n",
      "[-0.05042574 -0.35088909 -0.0085058   0.52788346]\n",
      "[-0.05744352 -0.15564851  0.00205187  0.23253251]\n",
      "[-0.06055649 -0.35079972  0.00670252  0.52586195]\n",
      "[-0.06757249 -0.15577272  0.01721976  0.23529856]\n",
      "[-0.07068794  0.03909903  0.02192573 -0.05190337]\n",
      "[-0.06990596  0.23389984  0.02088766 -0.3375887 ]\n",
      "[-0.06522796  0.42871842  0.01413589 -0.6236123 ]\n",
      "[-0.0566536   0.62364018  0.00166364 -0.91180992]\n",
      "[-0.04418079  0.81873958 -0.01657256 -1.20396951]\n",
      "[-0.027806    0.62383575 -0.04065195 -0.91652601]\n",
      "[-0.01532929  0.81948311 -0.05898247 -1.22170298]\n",
      "[ 1.06037698e-03  1.01531337e+00 -8.34165250e-02 -1.53226834e+00]\n",
      "[ 0.02136664  0.8212899  -0.11406189 -1.26674113]\n",
      "[ 0.03779244  1.0176692  -0.13939671 -1.5928575 ]\n",
      "[ 0.05814583  1.21414303 -0.17125386 -1.92555959]\n",
      "Episode finished after 27 timesteps\n",
      "[ 0.01358502 -0.0283672  -0.000963    0.04285488]\n",
      "[ 1.30176725e-02  1.66768544e-01 -1.05903737e-04 -2.50131723e-01]\n",
      "[ 0.01635304 -0.02835189 -0.00510854  0.0425178 ]\n",
      "[ 0.01578601  0.16684294 -0.00425818 -0.25177253]\n",
      "[ 0.01912286 -0.02821795 -0.00929363  0.03956424]\n",
      "[ 0.01855851  0.16703603 -0.00850235 -0.25603637]\n",
      "[ 0.02189923  0.36227833 -0.01362308 -0.5513889 ]\n",
      "[ 0.02914479  0.16735034 -0.02465085 -0.2630291 ]\n",
      "[ 0.0324918  -0.02741123 -0.02991144  0.02177788]\n",
      "[ 0.03194357  0.16812663 -0.02947588 -0.28019036]\n",
      "[ 0.03530611  0.36365638 -0.03507968 -0.58202223]\n",
      "[ 0.04257923  0.16904303 -0.04672013 -0.30059312]\n",
      "[ 0.0459601   0.36479868 -0.05273199 -0.60763692]\n",
      "[ 0.05325607  0.17045211 -0.06488473 -0.33201828]\n",
      "[ 0.05666511 -0.02368916 -0.0715251  -0.0604819 ]\n",
      "[ 0.05619133 -0.21771659 -0.07273473  0.20880464]\n",
      "[ 0.051837   -0.02163405 -0.06855864 -0.10590667]\n",
      "[ 0.05140432 -0.21570995 -0.07067677  0.16438285]\n",
      "[ 0.04709012 -0.01965117 -0.06738912 -0.1497328 ]\n",
      "[ 0.04669709  0.17636781 -0.07038377 -0.46289129]\n",
      "[ 0.05022445  0.37241019 -0.0796416  -0.77690254]\n",
      "[ 0.05767265  0.56853182 -0.09517965 -1.09354239]\n",
      "[ 0.06904329  0.76477    -0.1170505  -1.41450793]\n",
      "[ 0.08433869  0.96113141 -0.14534066 -1.74136894]\n",
      "[ 0.10356132  1.15757856 -0.18016804 -2.07551271]\n",
      "Episode finished after 25 timesteps\n",
      "[-0.04524448  0.00235933 -0.03887002  0.02652066]\n",
      "[-0.04519729  0.19801653 -0.03833961 -0.27816836]\n",
      "[-0.04123696  0.39366386 -0.04390298 -0.58269278]\n",
      "[-0.03336369  0.58937251 -0.05555683 -0.88887622]\n",
      "[-0.02157624  0.39504673 -0.07333436 -0.61416259]\n",
      "[-0.0136753   0.59111266 -0.08561761 -0.92901199]\n",
      "[-0.00185305  0.39724432 -0.10419785 -0.66441552]\n",
      "[ 0.00609184  0.59364957 -0.11748616 -0.9880043 ]\n",
      "[ 0.01796483  0.40027985 -0.13724625 -0.73441076]\n",
      "[ 0.02597043  0.20729392 -0.15193446 -0.48787781]\n",
      "[ 0.03011631  0.01460538 -0.16169202 -0.24667168]\n",
      "[ 0.03040841 -0.17788241 -0.16662545 -0.00903672]\n",
      "[ 0.02685076 -0.37027147 -0.16680619  0.2267885 ]\n",
      "[ 0.01944534 -0.56266555 -0.16227042  0.46256009]\n",
      "[ 0.00819202 -0.75516702 -0.15301921  0.70002055]\n",
      "[-0.00691132 -0.55829219 -0.1390188   0.36334663]\n",
      "[-0.01807716 -0.75119282 -0.13175187  0.60916603]\n",
      "[-0.03310102 -0.55449909 -0.11956855  0.27805939]\n",
      "[-0.044191   -0.74773037 -0.11400736  0.53076741]\n",
      "[-0.05914561 -0.9410796  -0.10339201  0.78546287]\n",
      "[-0.0779672  -1.13464056 -0.08768276  1.04391071]\n",
      "[-0.10066001 -0.93847072 -0.06680454  0.72504067]\n",
      "[-0.11942942 -0.74249168 -0.05230373  0.41210191]\n",
      "[-0.13427926 -0.93683468 -0.04406169  0.68784747]\n",
      "[-0.15301595 -0.74112976 -0.03030474  0.38162505]\n",
      "[-0.16783855 -0.5455909  -0.02267224  0.0795432 ]\n",
      "[-0.17875036 -0.35015139 -0.02108138 -0.22020578]\n",
      "[-0.18575339 -0.15473455 -0.02548549 -0.51946338]\n",
      "[-0.18884808  0.04073675 -0.03587476 -0.82006703]\n",
      "[-0.18803335  0.23633081 -0.0522761  -1.12381427]\n",
      "[-0.18330673  0.04193167 -0.07475238 -0.84797607]\n",
      "[-0.1824681   0.23798928 -0.09171191 -1.16319795]\n",
      "[-0.17770831  0.43417786 -0.11497587 -1.48316958]\n",
      "[-0.16902476  0.24063051 -0.14463926 -1.22849387]\n",
      "[-0.16421214  0.43728683 -0.16920913 -1.56277393]\n",
      "[-0.15546641  0.63398002 -0.20046461 -1.90311047]\n",
      "Episode finished after 36 timesteps\n",
      "[ 0.0476063   0.04918979 -0.00831921 -0.01434137]\n",
      "[ 0.0485901  -0.14581187 -0.00860604  0.27570518]\n",
      "[ 0.04567386  0.0494318  -0.00309193 -0.01967962]\n",
      "[ 0.0466625  -0.14564567 -0.00348552  0.27202616]\n",
      "[ 0.04374959  0.04952584  0.001955   -0.02175407]\n",
      "[ 0.0447401  -0.14562409  0.00151992  0.27154504]\n",
      "[ 0.04182762 -0.3407677   0.00695082  0.56470697]\n",
      "[ 0.03501227 -0.14574395  0.01824496  0.27422194]\n",
      "[ 0.03209739 -0.34112141  0.0237294   0.57260307]\n",
      "[ 0.02527496 -0.53656791  0.03518146  0.87266607]\n",
      "[ 0.0145436  -0.73215016  0.05263478  1.17619912]\n",
      "[-9.94017231e-05 -5.37750034e-01  7.61587609e-02  9.00470247e-01]\n",
      "[-0.0108544  -0.73381676  0.09416817  1.21608687]\n",
      "[-0.02553074 -0.54002705  0.1184899   0.95433474]\n",
      "[-0.03633128 -0.7365265   0.1375766   1.28177179]\n",
      "[-0.05106181 -0.54339876  0.16321203  1.03513744]\n",
      "[-0.06192978 -0.35077842  0.18391478  0.79781828]\n",
      "[-0.06894535 -0.54788298  0.19987115  1.14225559]\n",
      "Episode finished after 18 timesteps\n",
      "[ 0.00038408 -0.03146761 -0.01523599 -0.03668027]\n",
      "[-2.45269209e-04 -2.26367795e-01 -1.59695935e-02  2.51156873e-01]\n",
      "[-0.00477263 -0.03102148 -0.01094646 -0.04652009]\n",
      "[-0.00539305 -0.22598477 -0.01187686  0.24268913]\n",
      "[-0.00991275 -0.0306952  -0.00702308 -0.05371628]\n",
      "[-0.01052665  0.16452674 -0.0080974  -0.34860674]\n",
      "[-0.00723612  0.35976292 -0.01506954 -0.64383202]\n",
      "[-4.08611232e-05  1.64854198e-01 -2.79461762e-02 -3.55932410e-01]\n",
      "[ 0.00325622 -0.0298595  -0.03506482 -0.07219101]\n",
      "[ 0.00265903  0.16574715 -0.03650864 -0.37572757]\n",
      "[ 0.00597398  0.36136813 -0.0440232  -0.67969466]\n",
      "[ 0.01320134  0.16688444 -0.05761709 -0.40119042]\n",
      "[ 0.01653903 -0.02737493 -0.0656409  -0.12721494]\n",
      "[ 0.01599153  0.16862296 -0.0681852  -0.43986321]\n",
      "[ 0.01936399  0.36464032 -0.07698246 -0.75323693]\n",
      "[ 0.02665679  0.17065944 -0.0920472  -0.48573786]\n",
      "[ 0.03006998 -0.02305127 -0.10176196 -0.22342555]\n",
      "[ 0.02960896 -0.21658267 -0.10623047  0.03550336]\n",
      "[ 0.0252773  -0.02011041 -0.1055204  -0.28871677]\n",
      "[ 0.0248751  -0.21358178 -0.11129474 -0.03108934]\n",
      "[ 0.02060346 -0.40694632 -0.11191652  0.22450985]\n",
      "[ 0.01246453 -0.60030561 -0.10742633  0.47989946]\n",
      "[ 4.58421672e-04 -7.93760102e-01 -9.78283361e-02  7.36885764e-01]\n",
      "[-0.01541678 -0.59743287 -0.08309062  0.41508731]\n",
      "[-0.02736544 -0.40123759 -0.07478887  0.09740917]\n",
      "[-0.03539019 -0.20512786 -0.07284069 -0.21790056]\n",
      "[-0.03949275 -0.00904432 -0.0771987  -0.53264217]\n",
      "[-0.03967363  0.18707368 -0.08785155 -0.84861689]\n",
      "[-0.03593216 -0.00674729 -0.10482388 -0.58480177]\n",
      "[-0.03606711  0.18967474 -0.11651992 -0.9085794 ]\n",
      "[-0.03227361  0.38616473 -0.13469151 -1.23549524]\n",
      "[-0.02455032  0.58273573 -0.15940141 -1.56716085]\n",
      "[-0.0128956   0.38983659 -0.19074463 -1.32814616]\n",
      "Episode finished after 33 timesteps\n"
     ]
    }
   ],
   "source": [
    "#Visualitzar l'entorn\n",
    "for i_episode in range(15):\n",
    "    observation = env.reset()\n",
    "    for t in range(100):\n",
    "        env.render()  #EL RENDER NOMÉS FUNCIONA EN LOCAL: comentar línia si no s'està en local.\n",
    "        print(observation)\n",
    "        action = env.action_space.sample() #acció aleatòria\n",
    "        observation, reward, done, info = env.step(action) #execució de l'acció triada\n",
    "        if done:\n",
    "            print(\"Episode finished after {} timesteps\".format(t+1)) \n",
    "            break\n",
    "env.close() #tanquem la visualització de l'entorn"
   ]
  },
  {
   "cell_type": "markdown",
   "metadata": {
    "id": "d4f4BbyGSADU"
   },
   "source": [
    "## 2. Construcció de l'algorisme de REINFORCE amb línia de base"
   ]
  },
  {
   "cell_type": "markdown",
   "metadata": {
    "id": "HSRTWwXTSADU"
   },
   "source": [
    "L'algorisme REINFORCE és el principal mètode de gradients de política. En el mòdul teòric descrivíem la generalització del teorema dels gradients de política així:\n",
    "\n",
    "$$\\nabla J(\\theta) \\sim \\left[\\sum^{T-1}_{t=0} \\nabla_{\\theta}\\log \\pi_{\\theta}(a_t | s_t, \\theta)(G_t - b(s_t))\\right]$$\n",
    "\n",
    "on $\\pi_{\\theta}$ és la política, $G_t$ el retorn, i $b(s_t)$ la línia de base.\n",
    "\n",
    "Aquesta línia de base pot ser **qualsevol funció o valor aleatori que sigui independent de l'acció** i pot ser estrictament 0, de manera que recupera l'algorisme de REINFORCE bàsic. Afegir una línia de base ens permet reduir de manera significativa la variabilitat deguda a possibles grans diferències de recompensa entre el primer i l'últim pas d'un mateix episodi.\n",
    "\n",
    "Així, cada actualització serà proporcional al producte del retorn i el gradient de la probabilitat de prendre l'acció acollida, dividit per la probabilitat de prendre aquesta acció.\n",
    "\n",
    "$$\\theta_{t+1} = \\theta + \\alpha(G_t-b(S_t))\\ln \\pi(A_t | S_t, \\theta)$$"
   ]
  },
  {
   "cell_type": "markdown",
   "metadata": {
    "id": "BfBXB_vhSADU"
   },
   "source": [
    "En aquest exemple usarem com a línia de base el valor de la mitjana de les recompenses de cada episodi.\n",
    "\n",
    "La construcció de l'algorisme es basa en el procés següent (de la mateixa manera que vam fer amb la DQN):\n",
    "\n",
    "<ol>\n",
    "    <li> Definir el model de xarxa neuronal. </li>\n",
    "    <li> Definir l'agent: com ha de comportar-se. </li>\n",
    "    <li> Fixar hiperparàmetres. </li>\n",
    "    <li> Entrenar l'agent.  </li>\n",
    "    \n",
    "</ol>\n"
   ]
  },
  {
   "cell_type": "markdown",
   "metadata": {
    "id": "o9ka4ztBSADV"
   },
   "source": [
    "Començarem important la llibreria per treballar en **Pytorch** i en altres de necessàries:"
   ]
  },
  {
   "cell_type": "code",
   "execution_count": 3,
   "metadata": {
    "id": "Wh8OpfloeUeH"
   },
   "outputs": [],
   "source": [
    "import torch\n",
    "import numpy as np\n",
    "import matplotlib.pyplot as plt"
   ]
  },
  {
   "cell_type": "markdown",
   "metadata": {
    "id": "FthaybGBSADV"
   },
   "source": [
    "### 2.1. Definició del model"
   ]
  },
  {
   "cell_type": "markdown",
   "metadata": {
    "id": "wddKpFJvSADV"
   },
   "source": [
    "El primer pas és definir la nostra xarxa neuronal. Per a aquest exemple usarem una xarxa neuronal molt senzilla amb dues capes lineals (una capa ReLU i una de sortida Softmax) i l'optimizador Adam.\n",
    "\n",
    "També indicarem l'opció de poder treballar amb **CPU** o **CUDA**, ja que en aprenentatge per reforç la majoria dels processos solen requerir molta màquina i l'acceleració per maquinari és usualment necessària. **Aquest exemple es pot executar amb CPU**.\n"
   ]
  },
  {
   "cell_type": "code",
   "execution_count": 4,
   "metadata": {
    "id": "GEJFh8kpGm2a"
   },
   "outputs": [],
   "source": [
    "class PGReinforce(torch.nn.Module):\n",
    "    \n",
    "    def __init__(self, env, learning_rate=1e-3, device='cpu'):\n",
    "        super(PGReinforce, self).__init__()\n",
    "        self.device=device\n",
    "        self.n_inputs = env.observation_space.shape[0]\n",
    "        self.n_outputs = env.action_space.n\n",
    "        self.learning_rate = learning_rate\n",
    "        \n",
    "        ### Construcció de la xarxa neuronal\n",
    "        self.model = torch.nn.Sequential(\n",
    "            torch.nn.Linear(self.n_inputs, 16), \n",
    "            torch.nn.ReLU(), \n",
    "            torch.nn.Linear(16, self.n_outputs),\n",
    "            torch.nn.Softmax(dim=-1))\n",
    "        \n",
    "        self.optimizer = torch.optim.Adam(self.parameters(), lr=self.learning_rate)\n",
    "        \n",
    "        \n",
    "        ### S'ofereix l'opció de treballar amb CUDA\n",
    "        if self.device == 'cuda':\n",
    "            self.model.cuda()\n",
    "\n",
    "    #Obtenció de les probabilitats de les possibles accionis       \n",
    "    def get_action_prob(self, state):\n",
    "        action_probs = self.model(torch.FloatTensor(state))\n",
    "        return action_probs"
   ]
  },
  {
   "cell_type": "markdown",
   "metadata": {
    "id": "MSWd2Q0DSADW"
   },
   "source": [
    "### 2.2. Definició de l'agent"
   ]
  },
  {
   "cell_type": "markdown",
   "metadata": {
    "id": "f9w8n3MiSADW"
   },
   "source": [
    "Una vegada que tenim el model definit, només ens queda definir el comportament de l'agent, la manera com aprèn.\n",
    "\n",
    "Com s'explica en el text teòric, en aquest cas, **no** necessitem incloure cap mètode d'exploració-explotació, ni un *buffer* de repetició d'experiències, ni una xarxa objectiu, a diferència del que ocorre amb les DQN, atès que:\n",
    "\n",
    "<ol>\n",
    "    <li> Exploració: es fa automàticament gràcies al fet que la xarxa retorna una distribució uniforme de probabilitat de les possibles accions, per la qual cosa el comportament aleatori al principi del procés ja és considerat. </li>\n",
    "    <li> <i>Buffer</i>: no hi ha necessitat perquè no podem entrenar amb les dades obtingudes de la política anterior, ja que l'agent s'orienta per la política, no pels valors obtinguts de les seves accions.</li>\n",
    "    <li> Xarxa objectiu: la utilitzàvem per trencar la correlació en el càlcul dels valors <i>Q</i>, però en els PG no calculem cap valor de <i>Q</i>. </li>\n",
    "    \n",
    "</ol>\n",
    "\n",
    "El procés de l'agent se cenyeix, doncs, a triar accions segons la seva probabilitat, actualitzar la xarxa segons l'equació anterior i calcular la pèrdua. Aquest procés es repeteix fins que l'agent aconsegueixi la recompensa objectiu a partir de la qual es considera que ha après a jugar (en **CartPole** és 195, com s'indica en la variable `env.spec.reward_threshold`) o fins que s'esgoti el límit màxim d'episodis establert (hiperparàmetre fixat).\n"
   ]
  },
  {
   "cell_type": "code",
   "execution_count": 5,
   "metadata": {
    "id": "iC_M5ASxGr_1"
   },
   "outputs": [],
   "source": [
    "class reinforceAgent:\n",
    "        \n",
    "    def __init__(self, env, pgnetwork):\n",
    "        \n",
    "        self.env = env\n",
    "        self.pgnetwork = pgnetwork\n",
    "        self.nblock = 100 # bloc dels X últims episodis dels quals es calcularà la mitjana de recompensa\n",
    "        self.reward_threshold = self.env.spec.reward_threshold # recompensa mitjana a partir de la qual es considera\n",
    "                                                               # que l'agent ha après a jugar\n",
    "        self.initialize()\n",
    "        \n",
    "        \n",
    "    def initialize(self):\n",
    "        self.batch_rewards = []\n",
    "        self.batch_actions = []\n",
    "        self.batch_states = []\n",
    "        self.batch_counter = 1\n",
    "        self.training_rewards = []\n",
    "        self.mean_training_rewards = []\n",
    "        self.update_loss = []\n",
    "        \n",
    "        \n",
    "    ## Entrenament\n",
    "    def train(self, gamma=0.99, max_episodes=2000, batch_size=10):\n",
    "        self.gamma = gamma\n",
    "        self.batch_size = batch_size\n",
    "        \n",
    "        episode = 0\n",
    "        action_space = np.arange(self.env.action_space.n)\n",
    "        training = True\n",
    "        print(\"Training...\")\n",
    "        while training:\n",
    "            state0 = env.reset()\n",
    "            episode_states = []\n",
    "            episode_rewards = []\n",
    "            episode_actions = []\n",
    "            gamedone = False\n",
    "            \n",
    "            while gamedone == False:\n",
    "                # Obtenim les accions\n",
    "                action_probs = self.pgnetwork.get_action_prob(state0).detach().numpy()\n",
    "                action = np.random.choice(action_space, p=action_probs)\n",
    "                next_state, reward, gamedone, _ = env.step(action)\n",
    "                \n",
    "                # Emmagatzemem les experiències que es van obtenint en aquest episodi\n",
    "                episode_states.append(state0)\n",
    "                episode_rewards.append(reward)\n",
    "                episode_actions.append(action)\n",
    "                state0 = next_state\n",
    "                \n",
    "                \n",
    "                if gamedone:\n",
    "                    episode += 1\n",
    "                    # Calculem el terme del retorn menys la línia de base\n",
    "                    self.batch_rewards.extend(self.discount_rewards(episode_rewards))\n",
    "                    self.batch_states.extend(episode_states)\n",
    "                    self.batch_actions.extend(episode_actions)\n",
    "                    self.training_rewards.append(sum(episode_rewards)) # guardem les recompenses obtingudes\n",
    "                    \n",
    "                    \n",
    "                    # Actualitzem la xarxa quan es completa la grandària del batch\n",
    "                    if self.batch_counter == self.batch_size:\n",
    "                        self.update(self.batch_states, self.batch_rewards, self.batch_actions)\n",
    "                        self.update_loss = []\n",
    "                    \n",
    "                        # Reinicialitzem les variables de l'episodi\n",
    "                        self.batch_rewards = []\n",
    "                        self.batch_actions = []\n",
    "                        self.batch_states = []\n",
    "                        self.batch_counter = 1\n",
    "                    \n",
    "                    #Actualitzem el comptador del batch\n",
    "                    self.batch_counter += 1\n",
    "                    \n",
    "                    # Calculem la mitjana de recompensa dels últims X episodis\n",
    "                    mean_rewards = np.mean(self.training_rewards[-self.nblock:])\n",
    "                    self.mean_training_rewards.append(mean_rewards)\n",
    "                    \n",
    "                    print(\"\\rEpisode {:d} Mean Rewards {:.2f}\\t\\t\".format(\n",
    "                        episode, mean_rewards), end=\"\")\n",
    "                    \n",
    "                    # Comprovem que encara queden episodis\n",
    "                    if episode >= max_episodes:\n",
    "                        training = False\n",
    "                        print('\\nEpisode limit reached.')\n",
    "                        break\n",
    "                    \n",
    "                    # Acaba el joc si la mitjana de recompenses ha arribat al llindar fixat per a aquest joc  \n",
    "                    if mean_rewards >= self.reward_threshold:\n",
    "                        training = False\n",
    "                        print('\\nEnvironment solved in {} episodes!'.format(\n",
    "                            episode))\n",
    "                        break\n",
    "                        \n",
    "\n",
    "    def discount_rewards(self, rewards):\n",
    "        discount_r = np.zeros_like(rewards)\n",
    "        timesteps = range(len(rewards))\n",
    "        reward_sum = 0\n",
    "        for i in reversed(timesteps):  #revertim la direcció del vector per fer la suma cumulativa\n",
    "            reward_sum = rewards[i] + self.gamma*reward_sum\n",
    "            discount_r[i] = reward_sum\n",
    "        baseline = np.mean(discount_r) # establim la mitjana de la recompensa com a línia de base\n",
    "        return discount_r - baseline \n",
    "    \n",
    "    \n",
    "    ## Actualització                \n",
    "    def update(self, batch_s, batch_r, batch_a):\n",
    "        self.pgnetwork.optimizer.zero_grad()  # eliminem qualsevol gradient passat\n",
    "        state_t = torch.FloatTensor(batch_s)\n",
    "        reward_t = torch.FloatTensor(batch_r)       \n",
    "        action_t = torch.LongTensor(batch_a)             \n",
    "        loss = self.calculate_loss(state_t, action_t, reward_t) # calculem la pèrdua\n",
    "        loss.backward() # fem la diferència per obtenir els gradients\n",
    "        self.pgnetwork.optimizer.step() # apliquem els gradients a la xarxa neuronal\n",
    "        # Guardem els valors de pèrdua\n",
    "        if self.pgnetwork.device == 'cuda':\n",
    "            self.update_loss.append(loss.detach().cpu().numpy())\n",
    "        else:\n",
    "            self.update_loss.append(loss.detach().numpy())\n",
    "        \n",
    "        \n",
    "    ## Càlcul de la pèrdua\n",
    "    # Recordatori: cada actualització és proporcional al producte del retorn i el gradient de la probabilitat\n",
    "    # de prendre l'acció presa, dividit per la probabilitat de prendre aquesta acció (logaritme natural)\n",
    "    def calculate_loss(self, state_t, action_t, reward_t):\n",
    "        logprob = torch.log(self.pgnetwork.get_action_prob(state_t))\n",
    "        selected_logprobs = reward_t * \\\n",
    "                        logprob[np.arange(len(action_t)), action_t]\n",
    "        loss = -selected_logprobs.mean()\n",
    "        return loss\n",
    "   \n",
    "\n",
    "    def plot_rewards(self):\n",
    "        plt.figure(figsize=(12,8))\n",
    "        plt.plot(self.training_rewards, label='Rewards')\n",
    "        plt.plot(self.mean_training_rewards, label='Mean Rewards')\n",
    "        plt.axhline(self.reward_threshold, color='r', label=\"Reward threshold\")\n",
    "        plt.xlabel('Episodes')\n",
    "        plt.ylabel('Rewards')\n",
    "        plt.legend(loc=\"upper left\")\n",
    "        plt.show()"
   ]
  },
  {
   "cell_type": "markdown",
   "metadata": {
    "id": "fAYLKWuCSADZ"
   },
   "source": [
    "### 2.3. Hiperparàmetres"
   ]
  },
  {
   "cell_type": "markdown",
   "metadata": {
    "id": "urittPCXSADa"
   },
   "source": [
    "Fixem els hiperparàmetres necessaris:"
   ]
  },
  {
   "cell_type": "code",
   "execution_count": 6,
   "metadata": {
    "id": "eHkwKhTHGwgC"
   },
   "outputs": [],
   "source": [
    "lr = 0.01            #Velocitat aprenentatge\n",
    "MAX_EPISODES = 5000  #Nombre màxim d'episodis (l'agent ha d'aprendre abans d'arribar a aquest valor)\n",
    "GAMMA = 0.99\n",
    "BATCH_SIZE = 10"
   ]
  },
  {
   "cell_type": "markdown",
   "metadata": {
    "id": "8VsR-hc0SADb"
   },
   "source": [
    "### 2.4. Entrenament"
   ]
  },
  {
   "cell_type": "markdown",
   "metadata": {
    "id": "VB9pNLH0SADb"
   },
   "source": [
    "Carreguem el model de xarxa neuronal:"
   ]
  },
  {
   "cell_type": "code",
   "execution_count": 7,
   "metadata": {
    "id": "SCm5H7gbSADb"
   },
   "outputs": [],
   "source": [
    "pgR = PGReinforce(env, learning_rate=lr)"
   ]
  },
  {
   "cell_type": "markdown",
   "metadata": {
    "id": "_j6BTHEISADb"
   },
   "source": [
    "Creem el nostre agent:"
   ]
  },
  {
   "cell_type": "code",
   "execution_count": 8,
   "metadata": {
    "id": "4rcK_JHrSADb"
   },
   "outputs": [],
   "source": [
    "agent = reinforceAgent(env, pgR)"
   ]
  },
  {
   "cell_type": "markdown",
   "metadata": {
    "id": "cJrWwZmoSADb"
   },
   "source": [
    "Entrenem l'agent amb els hiperparàmetres establerts:"
   ]
  },
  {
   "cell_type": "code",
   "execution_count": 9,
   "metadata": {
    "colab": {
     "base_uri": "https://localhost:8080/"
    },
    "id": "P7ZZhseaG3qW",
    "outputId": "896fc0b7-4460-4ba5-b322-9440b17ccfb4"
   },
   "outputs": [
    {
     "name": "stdout",
     "output_type": "stream",
     "text": [
      "Training...\n",
      "Episode 1457 Mean Rewards 195.14\t\t\n",
      "Environment solved in 1457 episodes!\n"
     ]
    }
   ],
   "source": [
    "agent.train(gamma=GAMMA, max_episodes=MAX_EPISODES, batch_size=BATCH_SIZE)"
   ]
  },
  {
   "cell_type": "markdown",
   "metadata": {
    "id": "MVEP2EKsSADc"
   },
   "source": [
    "### 2.5. Representació de l'aprenentatge de l'agent"
   ]
  },
  {
   "cell_type": "code",
   "execution_count": 10,
   "metadata": {
    "colab": {
     "base_uri": "https://localhost:8080/",
     "height": 497
    },
    "id": "50KOa7FPv4rD",
    "outputId": "ae3e9618-a561-4c3e-e188-0159fcc72316"
   },
   "outputs": [
    {
     "data": {
      "image/png": "[encoded data removed]",
      "text/plain": [
       "<Figure size 864x576 with 1 Axes>"
      ]
     },
     "metadata": {
      "needs_background": "light"
     },
     "output_type": "display_data"
    }
   ],
   "source": [
    "agent.plot_rewards()"
   ]
  }
 ],
 "metadata": {
  "colab": {
   "collapsed_sections": [],
   "name": "M2.883_M10_PolicyGradients_Exemple.ipynb",
   "provenance": [],
   "toc_visible": true
  },
  "kernelspec": {
   "display_name": "Python 3",
   "language": "python",
   "name": "python3"
  },
  "language_info": {
   "codemirror_mode": {
    "name": "ipython",
    "version": 3
   },
   "file_extension": ".py",
   "mimetype": "text/x-python",
   "name": "python",
   "nbconvert_exporter": "python",
   "pygments_lexer": "ipython3",
   "version": "3.8.3"
  }
 },
 "nbformat": 4,
 "nbformat_minor": 1
}
