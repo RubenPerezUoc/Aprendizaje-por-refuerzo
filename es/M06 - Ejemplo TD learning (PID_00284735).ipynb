{
 "cells": [
  {
   "cell_type": "markdown",
   "metadata": {},
   "source": [
    "<div style=\"width: 100%; clear: both;\">\n",
    "<div style=\"float: left; width: 50%;\">\n",
    "<img src=\"http://www.uoc.edu/portal/_resources/common/imatges/marca_UOC/UOC_Masterbrand.jpg\", align=\"left\">\n",
    "</div>\n",
    "<div style=\"float: right; width: 50%;\">\n",
    "<p style=\"margin: 0; padding-top: 22px; text-align:right;\">M2.883 · Aprendizaje por refuerzo</p>\n",
    "<p style=\"margin: 0; text-align:right;\">Máster universitario de Ciencia de Datos (<i>Data Science</i>)</p>\n",
    "<p style=\"margin: 0; text-align:right; padding-button: 100px;\">Estudios de Informática, Multimedia y Telecomunicación</p>\n",
    "</div>\n",
    "</div>\n",
    "<div style=\"width:100%;\">&nbsp;</div>\n",
    "\n",
    "\n",
    "# Módulo 6: ejemplos de algoritmos de _TD learning_\n",
    "\n",
    "En este _notebook_ cargaremos algunos ejemplos de los algoritmos de _TD learning_ vistos en el módulo didáctico asociado. \n",
    "\n",
    "En la primera parte veremos el método de predicción TD(0) y después nos centraremos en SARSA y Q-learning. En todos los ejemplos emplearemos el entorno __GridWorld__ (en castellano, 'cuadrícula') como referencia, para facilitar la comparación entre métodos y así podernos centrar en el desarrollo de los algoritmos."
   ]
  },
  {
   "cell_type": "markdown",
   "metadata": {},
   "source": [
    "## 1. Entorno __GridWorld__\n",
    "\n",
    "El entorno __GridWorld__ consiste en un agente que se mueve en una cuadrícula 3 × 4. En cada paso, el agente tiene cuatro opciones de acción o movimiento: arriba, abajo, derecha e izquierda. El juego termina cuando el agente se encuentra en una celda que no permite más movimientos. Tenemos dos entornos __*standard_grid*__ y __*negative_grid*__. \n",
    "\n",
    "En el entorno *standard_grid*, el agente recibe una recompensa igual a 1 cuando pasa por la celda (0,3). Por el contrario, cuando el agente pasa por la celda (1,3) recibe una recompensa igual a –1. \n",
    "\n",
    "El entorno *negative_grid* es parecido al *standard_grid*, pero en este entorno se penaliza al agente por cada movimiento que hace. Es decir, recibe una recompensa negativa para cada movimiento. Este último entorno se usará para la implementación de SARSA y Q-learning. \n",
    "\n",
    "El código para implementar este entorno, que se encuentra disponible en el fichero adjunto `gridWorldGame.py`, ha sido adaptado del siguiente enlace:\n",
    "https://github.com/lazyprogrammer/machine_learning_examples/tree/master/rl"
   ]
  },
  {
   "cell_type": "markdown",
   "metadata": {},
   "source": [
    "## 2. TD(0)\n",
    "\n",
    "En este apartado ejecutaremos el método TD(0) para el entorno __GridWorld__ en su versión `standard_grid`.\n",
    "\n",
    "\n",
    "En primer lugar, cargaremos el entorno __GridWorld__ e inicializaremos los parámetros del algoritmo necesarios para determinar su fórmula de actualización."
   ]
  },
  {
   "cell_type": "code",
   "execution_count": 1,
   "metadata": {},
   "outputs": [],
   "source": [
    "import numpy as np\n",
    "import matplotlib.pyplot as plt\n",
    "from gridWorldGame import standard_grid, negative_grid, print_values, print_policy\n",
    "\n",
    "SMALL_ENOUGH = 1e-3\n",
    "GAMMA = 0.9\n",
    "ALL_POSSIBLE_ACTIONS = ('U', 'D', 'L', 'R')\n",
    "ALPHA = 0.1"
   ]
  },
  {
   "cell_type": "markdown",
   "metadata": {},
   "source": [
    "## 2.1. Inicialización\n",
    "En este apartado vamos a hacer todas aquellas operaciones necesarias para ejecutar el algoritmo. En primer lugar, definimos un valor de épsilon ($\\epsilon$) para las acciones aleatorias. Esta parte del código nos sirve para asegurar que se visiten todos los estados durante la ejecución de los pasos del algoritmo (es decir, la exploración)."
   ]
  },
  {
   "cell_type": "code",
   "execution_count": 2,
   "metadata": {},
   "outputs": [],
   "source": [
    "def random_action(a, eps=0.1):\n",
    "    # epsilon-soft para asegurar que se visiten todos los estados\n",
    "    p = np.random.random()\n",
    "    if p < (1 - eps):\n",
    "        return a\n",
    "    else:\n",
    "        return np.random.choice(ALL_POSSIBLE_ACTIONS)"
   ]
  },
  {
   "cell_type": "markdown",
   "metadata": {},
   "source": [
    "A continuación, vamos a posicionar nuestro agente en su estado inicial. Definiremos también los estados, las recompensas (en inglés, _rewards_) y las acciones."
   ]
  },
  {
   "cell_type": "code",
   "execution_count": 3,
   "metadata": {},
   "outputs": [],
   "source": [
    "def play_game(grid, policy):\n",
    "    # retorna una lista de estados y los rewards correspondientes\n",
    "    # inicia en el estado designado\n",
    "    s = (2, 0)\n",
    "    grid.set_state(s)\n",
    "    states_and_rewards = [(s, 0)] # lista de las parejas (estado, reward)\n",
    "    while not grid.game_over():\n",
    "        a = policy[s]\n",
    "        a = random_action(a)\n",
    "        r = grid.move(a)\n",
    "        s = grid.current_state()\n",
    "        states_and_rewards.append((s, r))\n",
    "    \n",
    "    return states_and_rewards"
   ]
  },
  {
   "cell_type": "markdown",
   "metadata": {},
   "source": [
    "Para poder verificar el entorno, podemos visualizar en la pantalla la estructura de nuestra cuadrícula (de tamañao 4 × 4) y los valores de recompensa asociados a cada posición."
   ]
  },
  {
   "cell_type": "code",
   "execution_count": 4,
   "metadata": {},
   "outputs": [
    {
     "name": "stdout",
     "output_type": "stream",
     "text": [
      "rewards:\n",
      "---------------------------\n",
      " 0.00| 0.00| 0.00| 1.00|\n",
      "---------------------------\n",
      " 0.00| 0.00| 0.00|-1.00|\n",
      "---------------------------\n",
      " 0.00| 0.00| 0.00| 0.00|\n"
     ]
    }
   ],
   "source": [
    "grid = standard_grid()\n",
    "\n",
    "# print rewards\n",
    "print(\"rewards:\")\n",
    "print_values(grid.rewards, grid)"
   ]
  },
  {
   "cell_type": "markdown",
   "metadata": {},
   "source": [
    "A continuación, definiremos la política inicial y la imprimiremos para visualizarla en la cuadrícula."
   ]
  },
  {
   "cell_type": "code",
   "execution_count": 5,
   "metadata": {},
   "outputs": [
    {
     "name": "stdout",
     "output_type": "stream",
     "text": [
      "initial policy:\n",
      "---------------------------\n",
      "  R  |  R  |  R  |     |\n",
      "---------------------------\n",
      "  U  |     |  R  |     |\n",
      "---------------------------\n",
      "  U  |  R  |  R  |  U  |\n"
     ]
    }
   ],
   "source": [
    "# state -> action\n",
    "policy = {\n",
    "  (2, 0): 'U',\n",
    "  (1, 0): 'U',\n",
    "  (0, 0): 'R',\n",
    "  (0, 1): 'R',\n",
    "  (0, 2): 'R',\n",
    "  (1, 2): 'R',\n",
    "  (2, 1): 'R',\n",
    "  (2, 2): 'R',\n",
    "  (2, 3): 'U',\n",
    "}\n",
    "\n",
    "# politica inicial\n",
    "print(\"initial policy:\")\n",
    "print_policy(policy, grid)"
   ]
  },
  {
   "cell_type": "markdown",
   "metadata": {},
   "source": [
    "Seguidamente, procederemos a inicializar los valores de $V(s)$ e imprimirlos en pantalla para poder comprobar y verificar el funcionamiento."
   ]
  },
  {
   "cell_type": "code",
   "execution_count": 6,
   "metadata": {},
   "outputs": [
    {
     "name": "stdout",
     "output_type": "stream",
     "text": [
      "---------------------------\n",
      " 0.00| 0.00| 0.00| 0.00|\n",
      "---------------------------\n",
      " 0.00| 0.00| 0.00| 0.00|\n",
      "---------------------------\n",
      " 0.00| 0.00| 0.00| 0.00|\n"
     ]
    }
   ],
   "source": [
    "V = {}\n",
    "states = grid.all_states()\n",
    "\n",
    "for s in states:\n",
    "    V[s] = 0\n",
    "\n",
    "# inicializar el valor para todos los estados en la cuadricula\n",
    "print_values(V, grid)"
   ]
  },
  {
   "cell_type": "markdown",
   "metadata": {},
   "source": [
    "## 2.2. Implementación del algoritmo TD(0)\n",
    "\n",
    "En este apartado vamos a implementar el algoritmo TD(0), que se ejecutará de forma iterativa hasta su convergencia."
   ]
  },
  {
   "cell_type": "code",
   "execution_count": 7,
   "metadata": {},
   "outputs": [],
   "source": [
    "for it in range(1000):\n",
    "    # genera un episodio usando pi\n",
    "    states_and_rewards = play_game(grid, policy)\n",
    "    \n",
    "    # la primera pareja (s, r) es el estado inicial,y lo ponemos a 0\n",
    "    # dado que no tenemos un reward, para empezar de forma simple.\n",
    "    # la última pareja (s, r) es el estado terminal y el reward final.\n",
    "    # el valor del estado terminal es 0 por definición, así que no nos interesa actualizarlo.\n",
    "    for t in range(len(states_and_rewards) - 1):\n",
    "        s, _ = states_and_rewards[t]\n",
    "        s2, r = states_and_rewards[t+1]\n",
    "        # actualizaremos V(s) al fin de cada episodio\n",
    "        V[s] = V[s] + ALPHA*(r + GAMMA*V[s2] - V[s])"
   ]
  },
  {
   "cell_type": "markdown",
   "metadata": {},
   "source": [
    "Finalmente, imprimiremos los valores finales y la política final."
   ]
  },
  {
   "cell_type": "code",
   "execution_count": 8,
   "metadata": {},
   "outputs": [
    {
     "name": "stdout",
     "output_type": "stream",
     "text": [
      "final values:\n",
      "---------------------------\n",
      " 0.74| 0.84| 0.97| 0.00|\n",
      "---------------------------\n",
      " 0.67| 0.00|-0.95| 0.00|\n",
      "---------------------------\n",
      " 0.61|-0.52|-0.76|-0.96|\n",
      "\n",
      "final policy:\n",
      "---------------------------\n",
      "  R  |  R  |  R  |     |\n",
      "---------------------------\n",
      "  U  |     |  R  |     |\n",
      "---------------------------\n",
      "  U  |  R  |  R  |  U  |\n"
     ]
    }
   ],
   "source": [
    "print(\"final values:\")\n",
    "print_values(V, grid)\n",
    "\n",
    "print(\"\\nfinal policy:\")\n",
    "print_policy(policy, grid)"
   ]
  },
  {
   "cell_type": "markdown",
   "metadata": {},
   "source": [
    "## 3. SARSA\n",
    "\n",
    "En este apartado, implementaremos el método SARSA para resolver el entorno GridWorld. "
   ]
  },
  {
   "cell_type": "markdown",
   "metadata": {},
   "source": [
    "## 3.1. Inicialización\n",
    "\n",
    "Cargaremos el entorno __GridWorld__ e inicializaremos los parámetros del algoritmo que aparecen en su fórmula de actualización."
   ]
  },
  {
   "cell_type": "code",
   "execution_count": 9,
   "metadata": {},
   "outputs": [],
   "source": [
    "import numpy as np\n",
    "import matplotlib.pyplot as plt\n",
    "from gridWorldGame import standard_grid, negative_grid, print_values, print_policy\n",
    "\n",
    "SMALL_ENOUGH = 1e-3\n",
    "GAMMA = 0.9\n",
    "ALL_POSSIBLE_ACTIONS = ('U', 'D', 'L', 'R')\n",
    "ALPHA = 0.1"
   ]
  },
  {
   "cell_type": "markdown",
   "metadata": {},
   "source": [
    "Seguidamente, necesitaremos definir el `argmax(key)` y el `max(value)`, que son variables que nos sirven para la implementación del algoritmo."
   ]
  },
  {
   "cell_type": "code",
   "execution_count": 10,
   "metadata": {},
   "outputs": [],
   "source": [
    "def max_dict(d):\n",
    "    # retorna el argmax (key) y max (value) de un diccionario\n",
    "    max_key = None\n",
    "    max_val = float('-inf')\n",
    "    for k, v in d.items():\n",
    "        if v > max_val:\n",
    "            max_val = v\n",
    "            max_key = k\n",
    "    \n",
    "    return max_key, max_val"
   ]
  },
  {
   "cell_type": "markdown",
   "metadata": {},
   "source": [
    "Al igual que en el ejemplo anterior, continuamos con la inicialización de las acciones aleatorias."
   ]
  },
  {
   "cell_type": "code",
   "execution_count": 11,
   "metadata": {},
   "outputs": [],
   "source": [
    "def random_action(a, eps=0.1):\n",
    "    # epsilon-soft para asegurar que se visiten todos los estados\n",
    "    p = np.random.random()\n",
    "    if p < (1 - eps):\n",
    "        return a\n",
    "    else:\n",
    "        return np.random.choice(ALL_POSSIBLE_ACTIONS)"
   ]
  },
  {
   "cell_type": "markdown",
   "metadata": {},
   "source": [
    "En esta caso, vamos a utilizar el entorno __*negative_grid*__ que implementa una penalización (recompensa negativa) por cada movimiento. De esta forma, se indica al agente que debe encontrar el camino más corto para resolver el problema (es decir, la política óptima)."
   ]
  },
  {
   "cell_type": "code",
   "execution_count": 12,
   "metadata": {},
   "outputs": [
    {
     "name": "stdout",
     "output_type": "stream",
     "text": [
      "rewards:\n",
      "---------------------------\n",
      "-0.10|-0.10|-0.10| 1.00|\n",
      "---------------------------\n",
      "-0.10| 0.00|-0.10|-1.00|\n",
      "---------------------------\n",
      "-0.10|-0.10|-0.10|-0.10|\n"
     ]
    }
   ],
   "source": [
    "grid = negative_grid(step_cost=-0.1)\n",
    "\n",
    "# emprimir rewards\n",
    "print(\"rewards:\")\n",
    "print_values(grid.rewards, grid)"
   ]
  },
  {
   "cell_type": "markdown",
   "metadata": {},
   "source": [
    "## 3.2. Implementación del algoritmo SARSA\n",
    "\n",
    "A continuación, procederemos a la implementación del algoritmo. Es interesante notar que no vamos a inicializar la política, sino que inicializaremos los valores de $Q$ más recientes."
   ]
  },
  {
   "cell_type": "code",
   "execution_count": 13,
   "metadata": {},
   "outputs": [
    {
     "name": "stdout",
     "output_type": "stream",
     "text": [
      "{(0, 1): {'D': 0, 'R': 0, 'U': 0, 'L': 0}, (1, 2): {'D': 0, 'R': 0, 'U': 0, 'L': 0}, (0, 0): {'D': 0, 'R': 0, 'U': 0, 'L': 0}, (2, 3): {'D': 0, 'R': 0, 'U': 0, 'L': 0}, (2, 0): {'D': 0, 'R': 0, 'U': 0, 'L': 0}, (1, 3): {'D': 0, 'R': 0, 'U': 0, 'L': 0}, (1, 0): {'D': 0, 'R': 0, 'U': 0, 'L': 0}, (2, 2): {'D': 0, 'R': 0, 'U': 0, 'L': 0}, (0, 3): {'D': 0, 'R': 0, 'U': 0, 'L': 0}, (0, 2): {'D': 0, 'R': 0, 'U': 0, 'L': 0}, (2, 1): {'D': 0, 'R': 0, 'U': 0, 'L': 0}}\n"
     ]
    }
   ],
   "source": [
    "# initializar Q(s,a)\n",
    "Q = {}\n",
    "states = grid.all_states()\n",
    "\n",
    "for s in states:\n",
    "    Q[s] = {}\n",
    "    for a in ALL_POSSIBLE_ACTIONS:\n",
    "        Q[s][a] = 0\n",
    "\n",
    "# valores iniciales de Q para todos los estado en la cuadicula\n",
    "print(Q)"
   ]
  },
  {
   "cell_type": "markdown",
   "metadata": {},
   "source": [
    "Crearemos ahora las variables `update_counts` y `update_counts_sa`, que nos serviran para saber cuantas veces actualizaremos los valores de $Q(s)$."
   ]
  },
  {
   "cell_type": "code",
   "execution_count": 14,
   "metadata": {},
   "outputs": [],
   "source": [
    "update_counts = {}\n",
    "update_counts_sa = {}\n",
    "\n",
    "for s in states:\n",
    "    update_counts_sa[s] = {}\n",
    "    for a in ALL_POSSIBLE_ACTIONS:\n",
    "        update_counts_sa[s][a] = 1.0"
   ]
  },
  {
   "cell_type": "markdown",
   "metadata": {},
   "source": [
    "Implementaremos, en el siguiente código, los pasos del algoritmo SARSA, que se ejecutará de forma iterativa hasta su convergencia."
   ]
  },
  {
   "cell_type": "code",
   "execution_count": 15,
   "metadata": {},
   "outputs": [
    {
     "name": "stdout",
     "output_type": "stream",
     "text": [
      "iteration: 0\n",
      "iteration: 2000\n",
      "iteration: 4000\n",
      "iteration: 6000\n",
      "iteration: 8000\n"
     ]
    }
   ],
   "source": [
    "# repetir hasta la convergencia\n",
    "t = 1.0\n",
    "deltas = []\n",
    "\n",
    "for it in range(10000):\n",
    "    if it % 100 == 0:\n",
    "        t += 1e-2\n",
    "    if it % 2000 == 0:\n",
    "        print(\"iteration:\", it)\n",
    "\n",
    "    # en lugar de generar un episodio, jugaremos un episodio y lo mandaremos en loop, como aquí abajo\n",
    "\n",
    "    s = (2, 0) # start state\n",
    "    grid.set_state(s)\n",
    "\n",
    "    # la primera (s,r) es el estado inicial y vale 0\n",
    "    # (dado que no tenemos un reward), para empezar el juego de manera facil.\n",
    "    # la ultima (s, r) es el estado terminal y el reward final.\n",
    "    # el valor por el estado terminal es por definición 0, así que no nos importa hacer una actualización.\n",
    "\n",
    "    a = max_dict(Q[s])[0]\n",
    "    a = random_action(a, eps=0.5/t)\n",
    "    biggest_change = 0\n",
    "    while not grid.game_over():\n",
    "        r = grid.move(a)\n",
    "        s2 = grid.current_state()\n",
    "\n",
    "        # necesitamos la acción sucesiva, dado que Q(s,a) depende de Q(s',a')\n",
    "        # si s2 no está en la politica, entonces es el estado terminal; todos los Q son 0\n",
    "        a2 = max_dict(Q[s2])[0]\n",
    "        a2 = random_action(a2, eps=0.5/t) # epsilon-greedy\n",
    "\n",
    "        # actualizaremos Q(s,a) cuando probamos el episodio\n",
    "        alpha = ALPHA / update_counts_sa[s][a]\n",
    "        update_counts_sa[s][a] += 0.005\n",
    "        old_qsa = Q[s][a]\n",
    "        Q[s][a] = Q[s][a] + alpha*(r + GAMMA*Q[s2][a2] - Q[s][a])\n",
    "        biggest_change = max(biggest_change, np.abs(old_qsa - Q[s][a]))\n",
    "\n",
    "        # queremos saber cuantas veces actualizamos Q(s)\n",
    "        update_counts[s] = update_counts.get(s,0) + 1\n",
    "\n",
    "        # el próximo estado será el nuevo estado\n",
    "        s = s2\n",
    "        a = a2\n",
    "\n",
    "    deltas.append(biggest_change)"
   ]
  },
  {
   "cell_type": "markdown",
   "metadata": {},
   "source": [
    "Seguidamente, imprimiremos los valores de delta ($\\delta$) para visualizar la convergencia del algoritmo."
   ]
  },
  {
   "cell_type": "code",
   "execution_count": 16,
   "metadata": {},
   "outputs": [
    {
     "data": {
      "image/png": "[encoded data removed]",
      "text/plain": [
       "<Figure size 432x288 with 1 Axes>"
      ]
     },
     "metadata": {
      "needs_background": "light"
     },
     "output_type": "display_data"
    }
   ],
   "source": [
    "plt.plot(deltas)\n",
    "plt.xlabel('Iteraciones')\n",
    "plt.ylabel('Delta')\n",
    "plt.show()"
   ]
  },
  {
   "cell_type": "markdown",
   "metadata": {},
   "source": [
    "En el siguiente código, procederemos a determinar la política óptima a partir de los $Q^*$.\n",
    "\n",
    "Para realizar este proceso, deberemos hallar los valores $V^*$ a partir de los valores de $Q^*$."
   ]
  },
  {
   "cell_type": "code",
   "execution_count": 17,
   "metadata": {},
   "outputs": [],
   "source": [
    "policy = {}\n",
    "V = {}\n",
    "\n",
    "for s in grid.actions.keys():\n",
    "    a, max_q = max_dict(Q[s])\n",
    "    policy[s] = a\n",
    "    V[s] = max_q"
   ]
  },
  {
   "cell_type": "markdown",
   "metadata": {},
   "source": [
    "Visualizaremos por pantalla los $V^*$."
   ]
  },
  {
   "cell_type": "code",
   "execution_count": 18,
   "metadata": {},
   "outputs": [
    {
     "name": "stdout",
     "output_type": "stream",
     "text": [
      "update counts:\n",
      "---------------------------\n",
      " 0.18| 0.18| 0.18| 0.00|\n",
      "---------------------------\n",
      " 0.18| 0.00| 0.04| 0.00|\n",
      "---------------------------\n",
      " 0.19| 0.02| 0.03| 0.00|\n"
     ]
    }
   ],
   "source": [
    "print(\"update counts:\")\n",
    "total = np.sum(list(update_counts.values()))\n",
    "\n",
    "for k, v in update_counts.items():\n",
    "    update_counts[k] = float(v) / total\n",
    "\n",
    "print_values(update_counts, grid)"
   ]
  },
  {
   "cell_type": "markdown",
   "metadata": {},
   "source": [
    "Para finalizar, procederemos a imprimir los valores de $V(s)$ finales y la política encontrada."
   ]
  },
  {
   "cell_type": "code",
   "execution_count": 19,
   "metadata": {},
   "outputs": [
    {
     "name": "stdout",
     "output_type": "stream",
     "text": [
      "final values:\n",
      "---------------------------\n",
      " 0.50| 0.72| 1.00| 0.00|\n",
      "---------------------------\n",
      " 0.30| 0.00| 0.73| 0.00|\n",
      "---------------------------\n",
      " 0.13| 0.21| 0.44| 0.20|\n",
      "\n",
      "final policy:\n",
      "---------------------------\n",
      "  R  |  R  |  R  |     |\n",
      "---------------------------\n",
      "  U  |     |  U  |     |\n",
      "---------------------------\n",
      "  U  |  R  |  U  |  L  |\n"
     ]
    }
   ],
   "source": [
    "print(\"final values:\")\n",
    "print_values(V, grid)\n",
    "\n",
    "print(\"\\nfinal policy:\")\n",
    "print_policy(policy, grid)"
   ]
  },
  {
   "cell_type": "markdown",
   "metadata": {},
   "source": [
    "## 4. _Q-Learning_\n",
    "\n",
    "En este apartado, implementaremos el método _Q-learning_ para resolver el entorno __GridWorld__ (en el caso de *negative_grid*) y compararemos los resultados obtenidos con el método que hemos implementado en el apartado anterior (el método SARSA)."
   ]
  },
  {
   "cell_type": "markdown",
   "metadata": {},
   "source": [
    "## 4.1. Inicialización\n",
    "\n",
    "Cargaremos el entorno __GridWorld__ e inicializamos los parámetros del algoritmo y de sus reglas de actualización."
   ]
  },
  {
   "cell_type": "code",
   "execution_count": 20,
   "metadata": {},
   "outputs": [],
   "source": [
    "import numpy as np\n",
    "import matplotlib.pyplot as plt\n",
    "from gridWorldGame import standard_grid, negative_grid,print_values, print_policy\n",
    "\n",
    "SMALL_ENOUGH = 1e-3\n",
    "GAMMA = 0.9\n",
    "ALL_POSSIBLE_ACTIONS = ('U', 'D', 'L', 'R')\n",
    "ALPHA = 0.1"
   ]
  },
  {
   "cell_type": "markdown",
   "metadata": {},
   "source": [
    "Como en el caso anterior del algoritmo SARSA, definimos el `argmax(key)` y el `max(value)`, que son variables que nos sirven para la implementación del algoritmo."
   ]
  },
  {
   "cell_type": "code",
   "execution_count": 21,
   "metadata": {},
   "outputs": [],
   "source": [
    "def max_dict(d):\n",
    "    # retorna el argmax (key) y max (value) de un diccionario\n",
    "    max_key = None\n",
    "    max_val = float('-inf')\n",
    "    for k, v in d.items():\n",
    "        if v > max_val:\n",
    "            max_val = v\n",
    "            max_key = k\n",
    "    \n",
    "    return max_key, max_val"
   ]
  },
  {
   "cell_type": "markdown",
   "metadata": {},
   "source": [
    "Inicializamos las acciones aleatorias."
   ]
  },
  {
   "cell_type": "code",
   "execution_count": 22,
   "metadata": {},
   "outputs": [],
   "source": [
    "def random_action(a, eps=0.1):\n",
    "    # epsilon-soft para asegurar que se visiten todos los estados\n",
    "    p = np.random.random()\n",
    "    if p < (1 - eps):\n",
    "        return a\n",
    "    else:\n",
    "        return np.random.choice(ALL_POSSIBLE_ACTIONS)"
   ]
  },
  {
   "cell_type": "markdown",
   "metadata": {},
   "source": [
    "Al igual que en el ejemplo anterior, vamos a utilizar el entorno __*negative_grid*__ que implementa una penalización por cada movimiento. De esta forma, el agente buscará el camino más corto para resolver el problema (es decir, la política óptima)."
   ]
  },
  {
   "cell_type": "code",
   "execution_count": 23,
   "metadata": {},
   "outputs": [
    {
     "name": "stdout",
     "output_type": "stream",
     "text": [
      "rewards:\n",
      "---------------------------\n",
      "-0.10|-0.10|-0.10| 1.00|\n",
      "---------------------------\n",
      "-0.10| 0.00|-0.10|-1.00|\n",
      "---------------------------\n",
      "-0.10|-0.10|-0.10|-0.10|\n"
     ]
    }
   ],
   "source": [
    "grid = negative_grid(step_cost=-0.1)\n",
    "\n",
    "# emprimir rewards\n",
    "print(\"rewards:\")\n",
    "print_values(grid.rewards, grid)"
   ]
  },
  {
   "cell_type": "markdown",
   "metadata": {},
   "source": [
    "## 4.2. Implementación del algoritmo _Q-Learning_\n",
    "\n",
    "Pasaremos ahora a la implementación del algoritmo. Como en el caso anterior de la implementación del algoritmo SARSA, en este caso tampoco vamos a inicializar la política, sino que inicializamos empleando los valores de $Q$ más recientes."
   ]
  },
  {
   "cell_type": "code",
   "execution_count": 24,
   "metadata": {},
   "outputs": [
    {
     "name": "stdout",
     "output_type": "stream",
     "text": [
      "{(0, 1): {'D': 0, 'R': 0, 'U': 0, 'L': 0}, (1, 2): {'D': 0, 'R': 0, 'U': 0, 'L': 0}, (0, 0): {'D': 0, 'R': 0, 'U': 0, 'L': 0}, (2, 3): {'D': 0, 'R': 0, 'U': 0, 'L': 0}, (2, 0): {'D': 0, 'R': 0, 'U': 0, 'L': 0}, (1, 3): {'D': 0, 'R': 0, 'U': 0, 'L': 0}, (1, 0): {'D': 0, 'R': 0, 'U': 0, 'L': 0}, (2, 2): {'D': 0, 'R': 0, 'U': 0, 'L': 0}, (0, 3): {'D': 0, 'R': 0, 'U': 0, 'L': 0}, (0, 2): {'D': 0, 'R': 0, 'U': 0, 'L': 0}, (2, 1): {'D': 0, 'R': 0, 'U': 0, 'L': 0}}\n"
     ]
    }
   ],
   "source": [
    "# initializar Q(s,a)\n",
    "Q = {}\n",
    "states = grid.all_states()\n",
    "\n",
    "for s in states:\n",
    "    Q[s] = {}\n",
    "    for a in ALL_POSSIBLE_ACTIONS:\n",
    "        Q[s][a] = 0\n",
    "\n",
    "# valores iniciales de Q values para todos los estados de la cuadricula\n",
    "print(Q)"
   ]
  },
  {
   "cell_type": "markdown",
   "metadata": {},
   "source": [
    "Creamos las variables `update-counts` y `update_counts_sa` que nos serviran para saber cuantas veces actualizaremos los valores de $Q(s)$."
   ]
  },
  {
   "cell_type": "code",
   "execution_count": 25,
   "metadata": {},
   "outputs": [],
   "source": [
    "update_counts = {}\n",
    "update_counts_sa = {}\n",
    "\n",
    "for s in states:\n",
    "    update_counts_sa[s] = {}\n",
    "    for a in ALL_POSSIBLE_ACTIONS:\n",
    "        update_counts_sa[s][a] = 1.0"
   ]
  },
  {
   "cell_type": "markdown",
   "metadata": {},
   "source": [
    "Como puede notarse, hasta este punto no pueden observarse diferencias respecto al algoritmo SARSA presentado en la sección anterior.\n",
    "\n",
    "A continuación, implementaremos los pasos del algoritmo _Q-learning_ hasta su convergencia. Es importante notar las diferencias, aquí sí, con el ejemplo mostrado en la sección anterior."
   ]
  },
  {
   "cell_type": "code",
   "execution_count": 26,
   "metadata": {},
   "outputs": [
    {
     "name": "stdout",
     "output_type": "stream",
     "text": [
      "iteration: 0\n",
      "iteration: 2000\n",
      "iteration: 4000\n",
      "iteration: 6000\n",
      "iteration: 8000\n"
     ]
    }
   ],
   "source": [
    "# repetir hasta la convergencia\n",
    "t = 1.0\n",
    "deltas = []\n",
    "\n",
    "for it in range(10000):\n",
    "    if it % 100 == 0:\n",
    "        t += 1e-2\n",
    "    if it % 2000 == 0:\n",
    "        print(\"iteration:\", it)\n",
    "\n",
    "    # en lugar de generar un episodio, jugaremos un episodio y lo manderemos en loop, como aquí abajo\n",
    "\n",
    "    s = (2, 0) # estado inicial\n",
    "    grid.set_state(s)\n",
    "\n",
    "    # la primera (s,r) es el estado inicial y vale 0 \n",
    "    # (dado que no tenemos un reward), para empezar el juego de manera facil.\n",
    "    # la ultima (s, r) es el estado terminal y el reward final.\n",
    "    # el valor por el estado terminal es por definición 0, así que no nos importa hacer una actualización.\n",
    "\n",
    "    a, _ = max_dict(Q[s])\n",
    "    biggest_change = 0\n",
    "    while not grid.game_over():\n",
    "        a = random_action(a, eps=0.5/t) # epsilon-greedy\n",
    "        # una accion random también funciona, pero sería mas lento dado que puedes chocar contra los muros\n",
    "        # a = np.random.choice(ALL_POSSIBLE_ACTIONS)\n",
    "        r = grid.move(a)\n",
    "        s2 = grid.current_state()\n",
    "\n",
    "        # adaptive learning rate\n",
    "        alpha = ALPHA / update_counts_sa[s][a]\n",
    "        update_counts_sa[s][a] += 0.005\n",
    "\n",
    "        # actualizaremos Q(s,a) cada vez que probamos un episodio\n",
    "        old_qsa = Q[s][a]\n",
    "        # la diferencia entre SARSA y Q-Learning es que Q-Learning\n",
    "        # usa max[a']{ Q(s',a')} en la actualización\n",
    "        # aunque no terminaremos tomando aquella acción en el paso siguiente\n",
    "        a2, max_q_s2a2 = max_dict(Q[s2])\n",
    "        Q[s][a] = Q[s][a] + alpha*(r + GAMMA*max_q_s2a2 - Q[s][a])\n",
    "        biggest_change = max(biggest_change, np.abs(old_qsa - Q[s][a]))\n",
    "\n",
    "        # queremos saber cuantas veces actualizamos Q(s)\n",
    "        update_counts[s] = update_counts.get(s,0) + 1\n",
    "\n",
    "        # el próximo estado será el nuevo estado\n",
    "        s = s2\n",
    "        a = a2\n",
    "    \n",
    "    deltas.append(biggest_change)"
   ]
  },
  {
   "cell_type": "markdown",
   "metadata": {},
   "source": [
    "Imprimiremos los valores de delta ($\\delta$) para visualizar la convergencia del algoritmo."
   ]
  },
  {
   "cell_type": "code",
   "execution_count": 27,
   "metadata": {},
   "outputs": [
    {
     "data": {
      "image/png": "[encoded data removed]",
      "text/plain": [
       "<Figure size 432x288 with 1 Axes>"
      ]
     },
     "metadata": {
      "needs_background": "light"
     },
     "output_type": "display_data"
    }
   ],
   "source": [
    "plt.plot(deltas)\n",
    "plt.xlabel('Iteraciones')\n",
    "plt.ylabel('Delta')\n",
    "plt.show()"
   ]
  },
  {
   "cell_type": "markdown",
   "metadata": {},
   "source": [
    "Ahora podemos determinar la política óptima a partir de $Q^*$. Para realizar este paso, deberemos encontrar $V^*$ a partir de $Q^*$. \n",
    "\n",
    "Estos pasos son, de nuevo, parecidos a los utilizados en la implementación del algoritmo SARSA."
   ]
  },
  {
   "cell_type": "code",
   "execution_count": 28,
   "metadata": {},
   "outputs": [],
   "source": [
    "# determinar la politica a partir de Q*\n",
    "# encontra V* desde Q*\n",
    "policy = {}\n",
    "V = {}\n",
    "\n",
    "for s in grid.actions.keys():\n",
    "    a, max_q = max_dict(Q[s])\n",
    "    policy[s] = a\n",
    "    V[s] = max_q"
   ]
  },
  {
   "cell_type": "markdown",
   "metadata": {},
   "source": [
    "Visualizamos los valores de $V^*$:"
   ]
  },
  {
   "cell_type": "code",
   "execution_count": 29,
   "metadata": {},
   "outputs": [
    {
     "name": "stdout",
     "output_type": "stream",
     "text": [
      "update counts:\n",
      "---------------------------\n",
      " 0.03| 0.04| 0.17| 0.00|\n",
      "---------------------------\n",
      " 0.02| 0.00| 0.17| 0.00|\n",
      "---------------------------\n",
      " 0.19| 0.19| 0.18| 0.02|\n"
     ]
    }
   ],
   "source": [
    "print(\"update counts:\")\n",
    "total = np.sum(list(update_counts.values()))\n",
    "\n",
    "for k, v in update_counts.items():\n",
    "    update_counts[k] = float(v) / total\n",
    "\n",
    "print_values(update_counts, grid)"
   ]
  },
  {
   "cell_type": "markdown",
   "metadata": {},
   "source": [
    "Finalmente, podemos imprimir los valores de $V(s)$ finales y la política encontrada."
   ]
  },
  {
   "cell_type": "code",
   "execution_count": 30,
   "metadata": {},
   "outputs": [
    {
     "name": "stdout",
     "output_type": "stream",
     "text": [
      "final values:\n",
      "---------------------------\n",
      " 0.62| 0.80| 1.00| 0.00|\n",
      "---------------------------\n",
      " 0.46| 0.00| 0.80| 0.00|\n",
      "---------------------------\n",
      " 0.31| 0.46| 0.62| 0.46|\n",
      "\n",
      "final policy:\n",
      "---------------------------\n",
      "  R  |  R  |  R  |     |\n",
      "---------------------------\n",
      "  U  |     |  U  |     |\n",
      "---------------------------\n",
      "  R  |  R  |  U  |  L  |\n"
     ]
    }
   ],
   "source": [
    "print(\"final values:\")\n",
    "print_values(V, grid)\n",
    "\n",
    "print(\"\\nfinal policy:\")\n",
    "print_policy(policy, grid)"
   ]
  },
  {
   "cell_type": "code",
   "execution_count": null,
   "metadata": {},
   "outputs": [],
   "source": []
  }
 ],
 "metadata": {
  "kernelspec": {
   "display_name": "Python 3",
   "language": "python",
   "name": "python3"
  },
  "language_info": {
   "codemirror_mode": {
    "name": "ipython",
    "version": 3
   },
   "file_extension": ".py",
   "mimetype": "text/x-python",
   "name": "python",
   "nbconvert_exporter": "python",
   "pygments_lexer": "ipython3",
   "version": "3.8.8"
  }
 },
 "nbformat": 4,
 "nbformat_minor": 1
}
